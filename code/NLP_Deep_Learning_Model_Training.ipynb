{
 "cells": [
  {
   "cell_type": "markdown",
   "metadata": {
    "id": "Q2WUP2Oxhf-7"
   },
   "source": [
    "**The same task as Lab 1 except using `RNNs`**\n",
    "\n",
    "**Watch out!<br>\n",
    "Preproceesing here is a a bit different**"
   ]
  },
  {
   "cell_type": "markdown",
   "metadata": {
    "id": "4yUXx7m1hf_A"
   },
   "source": [
    "**Dataset**\n",
    "labeled dataset collected from twitter\n",
    "\n",
    "**Objective**\n",
    "classify tweets containing hate speech from other tweets. <br>\n",
    "0 -> no hate speech <br>\n",
    "1 -> contains hate speech <br>\n",
    "\n",
    "**Total Estimated Time = 60-90 Mins**"
   ]
  },
  {
   "cell_type": "markdown",
   "metadata": {
    "id": "rgsyMb5Chf_A"
   },
   "source": [
    "> **Load the `clean data` preprocessed in `Lab 1`, then handle it to be used with `RNNs`**"
   ]
  },
  {
   "cell_type": "markdown",
   "metadata": {
    "id": "0PrZXXwQhf_B"
   },
   "source": [
    "# Import Libraries"
   ]
  },
  {
   "cell_type": "code",
   "execution_count": 1,
   "metadata": {
    "id": "mMrOx393exKK"
   },
   "outputs": [],
   "source": [
    "import pandas as pd\n",
    "import os\n",
    "import urllib"
   ]
  },
  {
   "cell_type": "code",
   "execution_count": 2,
   "metadata": {
    "id": "FG8aYvvPhf_B"
   },
   "outputs": [],
   "source": [
    "from sklearn.metrics import f1_score\n",
    "from sklearn.model_selection import train_test_split\n",
    "from tensorflow.keras.preprocessing.sequence import pad_sequences\n",
    "from tensorflow.keras.layers import Embedding, SimpleRNN, LSTM, Dense, Bidirectional, TextVectorization\n",
    "from tensorflow.keras.preprocessing.text import Tokenizer\n",
    "from tensorflow.keras.models import Sequential\n",
    "from tensorflow.keras.losses import SparseCategoricalCrossentropy\n",
    "from tensorflow.keras import Input\n",
    "import numpy as np"
   ]
  },
  {
   "cell_type": "code",
   "execution_count": 3,
   "metadata": {
    "id": "mDF2Bnt9oALc"
   },
   "outputs": [],
   "source": [
    "SEED = 42"
   ]
  },
  {
   "cell_type": "markdown",
   "metadata": {
    "id": "ENoyfiIghf_C"
   },
   "source": [
    "# Load Dataset"
   ]
  },
  {
   "cell_type": "code",
   "execution_count": 4,
   "metadata": {
    "colab": {
     "base_uri": "https://localhost:8080/"
    },
    "id": "PWdmvqoMXsbQ",
    "outputId": "e05d233d-0b28-4121-f6db-ecb0be95b285"
   },
   "outputs": [
    {
     "name": "stdout",
     "output_type": "stream",
     "text": [
      "here\n"
     ]
    }
   ],
   "source": [
    "# Check whether we're using google colab\n",
    "using_colab = None\n",
    "CWD = os.getcwd()\n",
    "if os.path.exists('/content'):\n",
    "  using_colab = True\n",
    "else:\n",
    "  using_colab = False\n",
    "  PWD = os.path.dirname(CWD)"
   ]
  },
  {
   "cell_type": "code",
   "execution_count": null,
   "metadata": {
    "id": "UZguXFkFfCfI"
   },
   "outputs": [],
   "source": [
    "# # Download the dataset\n",
    "# !gdown https://drive.google.com/u/0/uc?id=1Ir9Rwy1iBOfDfIoaQWDGgFT0W-YSNmot&export=download"
   ]
  },
  {
   "cell_type": "code",
   "execution_count": 5,
   "metadata": {
    "id": "bLau0CYKJ44N"
   },
   "outputs": [],
   "source": [
    "if using_colab:  #Check if using Colab\n",
    "    data_folder_path = CWD #+ \"/data/\"\n",
    "else:\n",
    "    data_folder_path = PWD + \"data/\"\n",
    "train_csv_file_path = data_folder_path + \"arabic_dialects_train.csv\"\n",
    "test_csv_file_path = data_folder_path + \"arabic_dialects_test.csv\""
   ]
  },
  {
   "cell_type": "code",
   "execution_count": 6,
   "metadata": {
    "id": "Ybph_YwHJ6N2"
   },
   "outputs": [],
   "source": [
    "train_url = 'https://github.com/AmgadHasan/arabic-dialect-detection/raw/main/data/arabic_dialects_train.csv'\n",
    "test_url = 'https://github.com/AmgadHasan/arabic-dialect-detection/raw/main/data/arabic_dialects_test.csv'"
   ]
  },
  {
   "cell_type": "code",
   "execution_count": 7,
   "metadata": {
    "colab": {
     "base_uri": "https://localhost:8080/"
    },
    "id": "wMVKhHMgJ7dk",
    "outputId": "3e9f2dfa-151d-4c9b-8a5c-76a8ccb8a287"
   },
   "outputs": [
    {
     "name": "stdout",
     "output_type": "stream",
     "text": [
      "Downloading file...\n",
      "File downloaded.\n"
     ]
    }
   ],
   "source": [
    "if not os.path.isfile(train_csv_file_path):\n",
    "    # If the file doesn't exist, download it from the URL\n",
    "    print(\"Downloading file...\")\n",
    "    urllib.request.urlretrieve(train_url, train_csv_file_path)\n",
    "    print(\"File downloaded.\")\n",
    "else:\n",
    "    print(\"File exists.\")"
   ]
  },
  {
   "cell_type": "code",
   "execution_count": 8,
   "metadata": {
    "colab": {
     "base_uri": "https://localhost:8080/"
    },
    "id": "i-fwm3FJJ8yE",
    "outputId": "c942f6a2-5ed3-414f-c3a6-94a102176175"
   },
   "outputs": [
    {
     "name": "stdout",
     "output_type": "stream",
     "text": [
      "Downloading file...\n",
      "File downloaded.\n"
     ]
    }
   ],
   "source": [
    "if not os.path.isfile(test_csv_file_path):\n",
    "    # If the file doesn't exist, download it from the URL\n",
    "    print(\"Downloading file...\")\n",
    "    urllib.request.urlretrieve(test_url, test_csv_file_path)\n",
    "    print(\"File downloaded.\")\n",
    "else:\n",
    "    print(\"File exists.\")"
   ]
  },
  {
   "cell_type": "code",
   "execution_count": 9,
   "metadata": {
    "colab": {
     "base_uri": "https://localhost:8080/",
     "height": 206
    },
    "id": "RKryr7xKJ-uM",
    "outputId": "88301e03-efc3-4110-f06f-beddd5079d2f"
   },
   "outputs": [
    {
     "data": {
      "text/html": [
       "\n",
       "  <div id=\"df-3c3df6ae-acdc-42a5-83a4-c4e100cacdf6\">\n",
       "    <div class=\"colab-df-container\">\n",
       "      <div>\n",
       "<style scoped>\n",
       "    .dataframe tbody tr th:only-of-type {\n",
       "        vertical-align: middle;\n",
       "    }\n",
       "\n",
       "    .dataframe tbody tr th {\n",
       "        vertical-align: top;\n",
       "    }\n",
       "\n",
       "    .dataframe thead th {\n",
       "        text-align: right;\n",
       "    }\n",
       "</style>\n",
       "<table border=\"1\" class=\"dataframe\">\n",
       "  <thead>\n",
       "    <tr style=\"text-align: right;\">\n",
       "      <th></th>\n",
       "      <th>tweet</th>\n",
       "      <th>label</th>\n",
       "    </tr>\n",
       "  </thead>\n",
       "  <tbody>\n",
       "    <tr>\n",
       "      <th>0</th>\n",
       "      <td>انتي جافية والا الغلا ماتبيسؤالموسيقي</td>\n",
       "      <td>LY</td>\n",
       "    </tr>\n",
       "    <tr>\n",
       "      <th>1</th>\n",
       "      <td>باركوا لجوجو  اجاها عريس</td>\n",
       "      <td>LB</td>\n",
       "    </tr>\n",
       "    <tr>\n",
       "      <th>2</th>\n",
       "      <td>لابأس عليك يالزينه ان شاء الله هذا حد السو</td>\n",
       "      <td>LY</td>\n",
       "    </tr>\n",
       "    <tr>\n",
       "      <th>3</th>\n",
       "      <td>الزن ده هو اكتر حاجة مدمرة للسلام النفسي واحنا بصراحة سلامنا النفسي اهم من كل شيء الحياة قصيرة ومش مستحملة حوارات كتير</td>\n",
       "      <td>EG</td>\n",
       "    </tr>\n",
       "    <tr>\n",
       "      <th>4</th>\n",
       "      <td>الكوت كلها ناس بتدور ع علاقات تانيه بس تكون احلي م اللي لسه خالصه اول انبارح</td>\n",
       "      <td>EG</td>\n",
       "    </tr>\n",
       "  </tbody>\n",
       "</table>\n",
       "</div>\n",
       "      <button class=\"colab-df-convert\" onclick=\"convertToInteractive('df-3c3df6ae-acdc-42a5-83a4-c4e100cacdf6')\"\n",
       "              title=\"Convert this dataframe to an interactive table.\"\n",
       "              style=\"display:none;\">\n",
       "        \n",
       "  <svg xmlns=\"http://www.w3.org/2000/svg\" height=\"24px\"viewBox=\"0 0 24 24\"\n",
       "       width=\"24px\">\n",
       "    <path d=\"M0 0h24v24H0V0z\" fill=\"none\"/>\n",
       "    <path d=\"M18.56 5.44l.94 2.06.94-2.06 2.06-.94-2.06-.94-.94-2.06-.94 2.06-2.06.94zm-11 1L8.5 8.5l.94-2.06 2.06-.94-2.06-.94L8.5 2.5l-.94 2.06-2.06.94zm10 10l.94 2.06.94-2.06 2.06-.94-2.06-.94-.94-2.06-.94 2.06-2.06.94z\"/><path d=\"M17.41 7.96l-1.37-1.37c-.4-.4-.92-.59-1.43-.59-.52 0-1.04.2-1.43.59L10.3 9.45l-7.72 7.72c-.78.78-.78 2.05 0 2.83L4 21.41c.39.39.9.59 1.41.59.51 0 1.02-.2 1.41-.59l7.78-7.78 2.81-2.81c.8-.78.8-2.07 0-2.86zM5.41 20L4 18.59l7.72-7.72 1.47 1.35L5.41 20z\"/>\n",
       "  </svg>\n",
       "      </button>\n",
       "      \n",
       "  <style>\n",
       "    .colab-df-container {\n",
       "      display:flex;\n",
       "      flex-wrap:wrap;\n",
       "      gap: 12px;\n",
       "    }\n",
       "\n",
       "    .colab-df-convert {\n",
       "      background-color: #E8F0FE;\n",
       "      border: none;\n",
       "      border-radius: 50%;\n",
       "      cursor: pointer;\n",
       "      display: none;\n",
       "      fill: #1967D2;\n",
       "      height: 32px;\n",
       "      padding: 0 0 0 0;\n",
       "      width: 32px;\n",
       "    }\n",
       "\n",
       "    .colab-df-convert:hover {\n",
       "      background-color: #E2EBFA;\n",
       "      box-shadow: 0px 1px 2px rgba(60, 64, 67, 0.3), 0px 1px 3px 1px rgba(60, 64, 67, 0.15);\n",
       "      fill: #174EA6;\n",
       "    }\n",
       "\n",
       "    [theme=dark] .colab-df-convert {\n",
       "      background-color: #3B4455;\n",
       "      fill: #D2E3FC;\n",
       "    }\n",
       "\n",
       "    [theme=dark] .colab-df-convert:hover {\n",
       "      background-color: #434B5C;\n",
       "      box-shadow: 0px 1px 3px 1px rgba(0, 0, 0, 0.15);\n",
       "      filter: drop-shadow(0px 1px 2px rgba(0, 0, 0, 0.3));\n",
       "      fill: #FFFFFF;\n",
       "    }\n",
       "  </style>\n",
       "\n",
       "      <script>\n",
       "        const buttonEl =\n",
       "          document.querySelector('#df-3c3df6ae-acdc-42a5-83a4-c4e100cacdf6 button.colab-df-convert');\n",
       "        buttonEl.style.display =\n",
       "          google.colab.kernel.accessAllowed ? 'block' : 'none';\n",
       "\n",
       "        async function convertToInteractive(key) {\n",
       "          const element = document.querySelector('#df-3c3df6ae-acdc-42a5-83a4-c4e100cacdf6');\n",
       "          const dataTable =\n",
       "            await google.colab.kernel.invokeFunction('convertToInteractive',\n",
       "                                                     [key], {});\n",
       "          if (!dataTable) return;\n",
       "\n",
       "          const docLinkHtml = 'Like what you see? Visit the ' +\n",
       "            '<a target=\"_blank\" href=https://colab.research.google.com/notebooks/data_table.ipynb>data table notebook</a>'\n",
       "            + ' to learn more about interactive tables.';\n",
       "          element.innerHTML = '';\n",
       "          dataTable['output_type'] = 'display_data';\n",
       "          await google.colab.output.renderOutput(dataTable, element);\n",
       "          const docLink = document.createElement('div');\n",
       "          docLink.innerHTML = docLinkHtml;\n",
       "          element.appendChild(docLink);\n",
       "        }\n",
       "      </script>\n",
       "    </div>\n",
       "  </div>\n",
       "  "
      ],
      "text/plain": [
       "                                                                                                                      tweet  \\\n",
       "0  انتي جافية والا الغلا ماتبيسؤالموسيقي                                                                                      \n",
       "1   باركوا لجوجو  اجاها عريس                                                                                                  \n",
       "2   لابأس عليك يالزينه ان شاء الله هذا حد السو                                                                                \n",
       "3  الزن ده هو اكتر حاجة مدمرة للسلام النفسي واحنا بصراحة سلامنا النفسي اهم من كل شيء الحياة قصيرة ومش مستحملة حوارات كتير     \n",
       "4   الكوت كلها ناس بتدور ع علاقات تانيه بس تكون احلي م اللي لسه خالصه اول انبارح                                              \n",
       "\n",
       "  label  \n",
       "0  LY    \n",
       "1  LB    \n",
       "2  LY    \n",
       "3  EG    \n",
       "4  EG    "
      ]
     },
     "execution_count": 9,
     "metadata": {},
     "output_type": "execute_result"
    }
   ],
   "source": [
    "df = pd.read_csv(train_csv_file_path, lineterminator='\\n')\n",
    "pd.set_option('display.max_colwidth', 0)\n",
    "df.head()"
   ]
  },
  {
   "cell_type": "markdown",
   "metadata": {
    "id": "C1KRqgWqnu4K"
   },
   "source": [
    "# Train Validation Splitting"
   ]
  },
  {
   "cell_type": "code",
   "execution_count": 10,
   "metadata": {
    "id": "1aJCi5znn5MK"
   },
   "outputs": [],
   "source": [
    "df_train, df_valid = train_test_split(df, test_size=0.1, stratify=df['label'], random_state=SEED)"
   ]
  },
  {
   "cell_type": "code",
   "execution_count": 12,
   "metadata": {
    "colab": {
     "base_uri": "https://localhost:8080/"
    },
    "id": "fGnMf0f7KSvF",
    "outputId": "7a7d7b1c-9e78-4d20-df50-131992138cd2"
   },
   "outputs": [
    {
     "data": {
      "text/plain": [
       "(EG    46685\n",
       " LY    29564\n",
       " LB    22369\n",
       " SD    11692\n",
       " MA    9346 \n",
       " Name: label, dtype: int64,\n",
       " EG    5187\n",
       " LY    3285\n",
       " LB    2486\n",
       " SD    1299\n",
       " MA    1039\n",
       " Name: label, dtype: int64)"
      ]
     },
     "execution_count": 12,
     "metadata": {},
     "output_type": "execute_result"
    }
   ],
   "source": [
    "df_train.label.value_counts(), df_valid.label.value_counts()"
   ]
  },
  {
   "cell_type": "markdown",
   "metadata": {
    "id": "ErbDrXMnhf_D"
   },
   "source": [
    "# Preprocessing"
   ]
  },
  {
   "cell_type": "code",
   "execution_count": 13,
   "metadata": {
    "id": "tResNzvyAIws"
   },
   "outputs": [],
   "source": [
    "encoder = TextVectorization(max_tokens=50000, ngrams=2)\n",
    "encoder.adapt(df_train[['tweet']])"
   ]
  },
  {
   "cell_type": "code",
   "execution_count": 14,
   "metadata": {
    "id": "wxomq_tMAkY_"
   },
   "outputs": [],
   "source": [
    "VOCAB = encoder.get_vocabulary()"
   ]
  },
  {
   "cell_type": "code",
   "execution_count": 15,
   "metadata": {
    "colab": {
     "base_uri": "https://localhost:8080/"
    },
    "id": "SmkkAt8AAPbg",
    "outputId": "71b07dfe-b69f-496a-deef-af0b9a02d3fd"
   },
   "outputs": [
    {
     "data": {
      "text/plain": [
       "50000"
      ]
     },
     "execution_count": 15,
     "metadata": {},
     "output_type": "execute_result"
    }
   ],
   "source": [
    "VOCAB_SIZE = len(encoder.get_vocabulary())\n",
    "VOCAB_SIZE"
   ]
  },
  {
   "cell_type": "code",
   "execution_count": 16,
   "metadata": {
    "colab": {
     "base_uri": "https://localhost:8080/"
    },
    "id": "BrTs013iDEL_",
    "outputId": "6e9b2130-702f-4560-e153-ba406bbc4ecf"
   },
   "outputs": [
    {
     "data": {
      "text/plain": [
       "<tf.Tensor: shape=(1, 9), dtype=int64, numpy=array([[ 114,    1,  375, 9443,    1,    1,    1,    1,    1]])>"
      ]
     },
     "execution_count": 16,
     "metadata": {},
     "output_type": "execute_result"
    }
   ],
   "source": [
    "encoder(df[['tweet']].iloc[0])"
   ]
  },
  {
   "cell_type": "code",
   "execution_count": 17,
   "metadata": {
    "colab": {
     "base_uri": "https://localhost:8080/"
    },
    "id": "VN7RQFHdEcHA",
    "outputId": "532744b1-4001-4668-91cc-74493df52e0b"
   },
   "outputs": [
    {
     "data": {
      "text/plain": [
       "(132952,)"
      ]
     },
     "execution_count": 17,
     "metadata": {},
     "output_type": "execute_result"
    }
   ],
   "source": [
    "df.tweet.shape"
   ]
  },
  {
   "cell_type": "markdown",
   "metadata": {
    "id": "w12yFDG4hf_E"
   },
   "source": [
    "# Modelling"
   ]
  },
  {
   "cell_type": "code",
   "execution_count": 18,
   "metadata": {
    "colab": {
     "base_uri": "https://localhost:8080/"
    },
    "id": "5qS_6bagGNp9",
    "outputId": "2adad937-dbe8-4a9a-8946-87a86e18e05b"
   },
   "outputs": [
    {
     "data": {
      "text/plain": [
       "['EG', 'LY', 'LB', 'MA', 'SD']"
      ]
     },
     "execution_count": 18,
     "metadata": {},
     "output_type": "execute_result"
    }
   ],
   "source": [
    "df_train.label.unique().tolist()"
   ]
  },
  {
   "cell_type": "code",
   "execution_count": 19,
   "metadata": {
    "colab": {
     "base_uri": "https://localhost:8080/"
    },
    "id": "i-6rChLPgwgA",
    "outputId": "d196ce44-f696-4903-f659-20b58a37f094"
   },
   "outputs": [
    {
     "data": {
      "text/plain": [
       "{'EG': 0, 'LY': 1, 'LB': 2, 'MA': 3, 'SD': 4}"
      ]
     },
     "execution_count": 19,
     "metadata": {},
     "output_type": "execute_result"
    }
   ],
   "source": [
    "lbl2idx = {k:v for v,k in enumerate(df_train.label.unique().tolist())}\n",
    "lbl2idx"
   ]
  },
  {
   "cell_type": "code",
   "execution_count": 20,
   "metadata": {
    "colab": {
     "base_uri": "https://localhost:8080/"
    },
    "id": "oEArrhDVhK80",
    "outputId": "8af270e5-148f-41c4-f191-09ca6f057c06"
   },
   "outputs": [
    {
     "data": {
      "text/plain": [
       "{0: 'EG', 1: 'LY', 2: 'LB', 3: 'MA', 4: 'SD'}"
      ]
     },
     "execution_count": 20,
     "metadata": {},
     "output_type": "execute_result"
    }
   ],
   "source": [
    "idx2lbl = {k:v for v,k in lbl2idx.items()}\n",
    "idx2lbl"
   ]
  },
  {
   "cell_type": "code",
   "execution_count": 28,
   "metadata": {
    "id": "nYmUagqhOl1C"
   },
   "outputs": [],
   "source": [
    "model0 = Sequential([\n",
    "    Input(shape=(1,),dtype='string'),\n",
    "    encoder,\n",
    "    Embedding(\n",
    "        input_dim=VOCAB_SIZE,\n",
    "        output_dim=64,\n",
    "        # Use masking to handle the variable sequence lengths\n",
    "        mask_zero=True),\n",
    "    SimpleRNN(64,),\n",
    "    Dense(64, activation='relu'),\n",
    "    Dense(5)\n",
    "])"
   ]
  },
  {
   "cell_type": "code",
   "execution_count": 29,
   "metadata": {
    "colab": {
     "base_uri": "https://localhost:8080/"
    },
    "id": "QihTiSQmO4Cu",
    "outputId": "c3fbf927-a0e7-4807-c829-1bc40960f66a"
   },
   "outputs": [
    {
     "name": "stdout",
     "output_type": "stream",
     "text": [
      "Model: \"sequential_1\"\n",
      "_________________________________________________________________\n",
      " Layer (type)                Output Shape              Param #   \n",
      "=================================================================\n",
      " text_vectorization (TextVec  (None, None)             0         \n",
      " torization)                                                     \n",
      "                                                                 \n",
      " embedding_1 (Embedding)     (None, None, 64)          3200000   \n",
      "                                                                 \n",
      " simple_rnn_1 (SimpleRNN)    (None, 64)                8256      \n",
      "                                                                 \n",
      " dense_2 (Dense)             (None, 64)                4160      \n",
      "                                                                 \n",
      " dense_3 (Dense)             (None, 5)                 325       \n",
      "                                                                 \n",
      "=================================================================\n",
      "Total params: 3,212,741\n",
      "Trainable params: 3,212,741\n",
      "Non-trainable params: 0\n",
      "_________________________________________________________________\n"
     ]
    }
   ],
   "source": [
    "model0.summary()"
   ]
  },
  {
   "cell_type": "code",
   "execution_count": 30,
   "metadata": {
    "id": "-MXFv-D_Ol1D"
   },
   "outputs": [],
   "source": [
    "model0.compile(loss=SparseCategoricalCrossentropy(from_logits=True), optimizer='adam', metrics=['accuracy'])"
   ]
  },
  {
   "cell_type": "code",
   "execution_count": 31,
   "metadata": {
    "colab": {
     "base_uri": "https://localhost:8080/"
    },
    "id": "cyxX8HmROl1D",
    "outputId": "a5a1a62e-e026-414b-fff2-b6068b2e4ef4"
   },
   "outputs": [
    {
     "name": "stdout",
     "output_type": "stream",
     "text": [
      "Epoch 1/4\n",
      "468/468 [==============================] - 84s 173ms/step - loss: 0.9843 - accuracy: 0.6226 - val_loss: 0.6370 - val_accuracy: 0.7767\n",
      "Epoch 2/4\n",
      "468/468 [==============================] - 80s 171ms/step - loss: 0.4526 - accuracy: 0.8472 - val_loss: 0.5917 - val_accuracy: 0.7974\n",
      "Epoch 3/4\n",
      "468/468 [==============================] - 81s 173ms/step - loss: 0.2228 - accuracy: 0.9261 - val_loss: 0.7818 - val_accuracy: 0.7581\n",
      "Epoch 4/4\n",
      "468/468 [==============================] - 80s 172ms/step - loss: 0.0939 - accuracy: 0.9705 - val_loss: 0.9268 - val_accuracy: 0.7708\n"
     ]
    }
   ],
   "source": [
    "history0 = model0.fit(\n",
    "    x = df_train.tweet,\n",
    "    y = df_train.label.replace(lbl2idx),\n",
    "    epochs=4, \n",
    "    verbose=1, \n",
    "    validation_data = (df_valid.tweet, df_valid.label.replace(lbl2idx)),\n",
    "    batch_size = 256,\n",
    "  )"
   ]
  },
  {
   "cell_type": "code",
   "execution_count": 25,
   "metadata": {
    "colab": {
     "base_uri": "https://localhost:8080/"
    },
    "id": "qijnK76AOl1D",
    "outputId": "9df5b094-7dbc-419b-f31b-a58de67fbe7a"
   },
   "outputs": [
    {
     "name": "stdout",
     "output_type": "stream",
     "text": [
      "416/416 [==============================] - 5s 12ms/step\n"
     ]
    }
   ],
   "source": [
    "preds_valid = model0.predict(df_valid.tweet)"
   ]
  },
  {
   "cell_type": "code",
   "execution_count": 26,
   "metadata": {
    "colab": {
     "base_uri": "https://localhost:8080/"
    },
    "id": "qP5hsrgHOl1D",
    "outputId": "05a380dd-5953-4fb1-82d1-946a7a1c3426"
   },
   "outputs": [
    {
     "data": {
      "text/plain": [
       "0.7575863859999187"
      ]
     },
     "execution_count": 26,
     "metadata": {},
     "output_type": "execute_result"
    }
   ],
   "source": [
    "f1_score(df_valid.label.replace(lbl2idx), np.argmax(preds_valid, axis=-1), average='macro')"
   ]
  },
  {
   "cell_type": "markdown",
   "metadata": {
    "id": "MxibFHtthf_F"
   },
   "source": [
    "# Enhancement"
   ]
  },
  {
   "cell_type": "markdown",
   "metadata": {
    "id": "-q05F0PkQUr_"
   },
   "source": [
    "## Bidirectional"
   ]
  },
  {
   "cell_type": "code",
   "execution_count": null,
   "metadata": {
    "id": "zSfJZPB5PsQD"
   },
   "outputs": [],
   "source": [
    "model1 = Sequential([\n",
    "    Input(shape=(1,),dtype='string'),\n",
    "    encoder,\n",
    "    Embedding(\n",
    "        input_dim=VOCAB_SIZE,\n",
    "        output_dim=64,\n",
    "        # Use masking to handle the variable sequence lengths\n",
    "        mask_zero=True),\n",
    "    Bidirectional(SimpleRNN(64,)),\n",
    "    Dense(64, activation='relu'),\n",
    "    Dense(5)\n",
    "])"
   ]
  },
  {
   "cell_type": "code",
   "execution_count": null,
   "metadata": {
    "id": "_2CloxeMQHEe"
   },
   "outputs": [],
   "source": [
    "model1.compile(loss=SparseCategoricalCrossentropy(from_logits=True), optimizer='adam', metrics=['accuracy'])"
   ]
  },
  {
   "cell_type": "code",
   "execution_count": null,
   "metadata": {
    "colab": {
     "base_uri": "https://localhost:8080/"
    },
    "id": "ePn0dHr6QI4j",
    "outputId": "7c4b9ba5-6549-49fa-fa71-ff25f95760c1"
   },
   "outputs": [
    {
     "name": "stdout",
     "output_type": "stream",
     "text": [
      "Epoch 1/4\n",
      "117/117 [==============================] - 69s 566ms/step - loss: 1.0706 - accuracy: 0.5821 - val_loss: 0.6659 - val_accuracy: 0.7574\n",
      "Epoch 2/4\n",
      "117/117 [==============================] - 53s 457ms/step - loss: 0.4881 - accuracy: 0.8311 - val_loss: 0.5512 - val_accuracy: 0.8090\n",
      "Epoch 3/4\n",
      "117/117 [==============================] - 53s 449ms/step - loss: 0.2873 - accuracy: 0.9050 - val_loss: 0.5498 - val_accuracy: 0.8132\n",
      "Epoch 4/4\n",
      "117/117 [==============================] - 50s 430ms/step - loss: 0.1670 - accuracy: 0.9473 - val_loss: 0.6370 - val_accuracy: 0.8001\n"
     ]
    }
   ],
   "source": [
    "history1 = model1.fit(\n",
    "    x = df_train.tweet,\n",
    "    y = df_train.label.replace(lbl2idx),\n",
    "    epochs=4, \n",
    "    verbose=1, \n",
    "    validation_data = (df_valid.tweet, df_valid.label.replace(lbl2idx)),\n",
    "    batch_size = 1024,\n",
    "  )"
   ]
  },
  {
   "cell_type": "code",
   "execution_count": null,
   "metadata": {
    "colab": {
     "base_uri": "https://localhost:8080/"
    },
    "id": "-SY5av1GQLuM",
    "outputId": "1dd89a55-0dad-4166-9bb5-4b386f3b3558"
   },
   "outputs": [
    {
     "name": "stdout",
     "output_type": "stream",
     "text": [
      "416/416 [==============================] - 9s 22ms/step\n"
     ]
    },
    {
     "data": {
      "text/plain": [
       "0.7642087491492553"
      ]
     },
     "execution_count": 77,
     "metadata": {},
     "output_type": "execute_result"
    }
   ],
   "source": [
    "preds_valid = model1.predict(df_valid.tweet)\n",
    "f1_score(df_valid.label.replace(lbl2idx), np.argmax(preds_valid, axis=-1), average='macro')"
   ]
  },
  {
   "cell_type": "markdown",
   "metadata": {
    "id": "g1GfitBTPFBl"
   },
   "source": [
    "# LSTM"
   ]
  },
  {
   "cell_type": "code",
   "execution_count": null,
   "metadata": {
    "id": "WBV7eiAdhf_E"
   },
   "outputs": [],
   "source": [
    "model2 = Sequential([\n",
    "    Input(shape=(1,),dtype='string'),\n",
    "    encoder,\n",
    "    Embedding(\n",
    "        input_dim=VOCAB_SIZE,\n",
    "        output_dim=64,\n",
    "        # Use masking to handle the variable sequence lengths\n",
    "        mask_zero=True),\n",
    "    Bidirectional(LSTM(64,)),\n",
    "    Dense(64, activation='relu'),\n",
    "    Dense(5)\n",
    "])"
   ]
  },
  {
   "cell_type": "code",
   "execution_count": null,
   "metadata": {
    "id": "GUrSGSi2hf_E"
   },
   "outputs": [],
   "source": [
    "model2.compile(loss=SparseCategoricalCrossentropy(from_logits=True), optimizer='adam', metrics=['accuracy'])"
   ]
  },
  {
   "cell_type": "code",
   "execution_count": null,
   "metadata": {
    "colab": {
     "base_uri": "https://localhost:8080/"
    },
    "id": "TdylnnJN6cIY",
    "outputId": "f204ad4f-f38d-42b2-97b3-856f9d1e34c3"
   },
   "outputs": [
    {
     "name": "stdout",
     "output_type": "stream",
     "text": [
      "Epoch 1/3\n",
      "234/234 [==============================] - 81s 303ms/step - loss: 0.8862 - accuracy: 0.6650 - val_loss: 0.6206 - val_accuracy: 0.7896\n",
      "Epoch 2/3\n",
      "234/234 [==============================] - 54s 231ms/step - loss: 0.3952 - accuracy: 0.8643 - val_loss: 0.5199 - val_accuracy: 0.8242\n",
      "Epoch 3/3\n",
      "234/234 [==============================] - 44s 189ms/step - loss: 0.2634 - accuracy: 0.9116 - val_loss: 0.5645 - val_accuracy: 0.8172\n"
     ]
    }
   ],
   "source": [
    "history2 = model2.fit(\n",
    "    x = df_train.tweet,\n",
    "    y = df_train.label.replace(lbl2idx),\n",
    "    epochs=3, \n",
    "    verbose=1, \n",
    "    validation_data = (df_valid.tweet, df_valid.label.replace(lbl2idx)),\n",
    "    batch_size = 512,\n",
    "  )"
   ]
  },
  {
   "cell_type": "code",
   "execution_count": null,
   "metadata": {
    "colab": {
     "base_uri": "https://localhost:8080/"
    },
    "id": "JLNObNH9klnE",
    "outputId": "e5951940-f0b3-45f4-f26a-4aab44bd6fe6"
   },
   "outputs": [
    {
     "name": "stdout",
     "output_type": "stream",
     "text": [
      "416/416 [==============================] - 6s 8ms/step\n"
     ]
    }
   ],
   "source": [
    "preds_valid = model2.predict(df_valid.tweet)"
   ]
  },
  {
   "cell_type": "code",
   "execution_count": null,
   "metadata": {
    "colab": {
     "base_uri": "https://localhost:8080/"
    },
    "id": "gffknAw8lH8x",
    "outputId": "a1b3d7d5-25fe-4e95-995d-a03c467d86d3"
   },
   "outputs": [
    {
     "data": {
      "text/plain": [
       "0.7801530245421613"
      ]
     },
     "execution_count": 83,
     "metadata": {},
     "output_type": "execute_result"
    }
   ],
   "source": [
    "f1_score(df_valid.label.replace(lbl2idx), np.argmax(preds_valid, axis=-1), average='macro')"
   ]
  },
  {
   "cell_type": "markdown",
   "metadata": {
    "id": "RsSbOXrnUk4c"
   },
   "source": [
    "### Doubling embedding dimension"
   ]
  },
  {
   "cell_type": "code",
   "execution_count": null,
   "metadata": {
    "id": "ytILxayfhf_G"
   },
   "outputs": [],
   "source": [
    "# Let's double the embedding dimension!\n",
    "model3 = Sequential([\n",
    "    Input(shape=(1,),dtype='string'),\n",
    "    encoder,\n",
    "    Embedding(\n",
    "        input_dim=VOCAB_SIZE,\n",
    "        output_dim=64*2,\n",
    "        # Use masking to handle the variable sequence lengths\n",
    "        mask_zero=True),\n",
    "    Bidirectional(LSTM(64)),\n",
    "    Dense(64, activation='relu'),\n",
    "    Dense(5)\n",
    "])"
   ]
  },
  {
   "cell_type": "code",
   "execution_count": null,
   "metadata": {
    "id": "ZlhopbMIhf_G"
   },
   "outputs": [],
   "source": [
    "model3.compile(loss=SparseCategoricalCrossentropy(from_logits=True), optimizer='adam', metrics=['accuracy'])"
   ]
  },
  {
   "cell_type": "code",
   "execution_count": null,
   "metadata": {
    "colab": {
     "base_uri": "https://localhost:8080/"
    },
    "id": "HhBBESTQRImc",
    "outputId": "ef7d51fc-f757-471a-c155-3d2d7d4bd850"
   },
   "outputs": [
    {
     "name": "stdout",
     "output_type": "stream",
     "text": [
      "Epoch 1/5\n",
      "116/116 [==============================] - 56s 398ms/step - loss: 1.0316 - accuracy: 0.6013 - val_loss: 0.6318 - val_accuracy: 0.7782\n",
      "Epoch 2/5\n",
      "116/116 [==============================] - 40s 339ms/step - loss: 0.4403 - accuracy: 0.8497 - val_loss: 0.5551 - val_accuracy: 0.8119\n",
      "Epoch 3/5\n",
      "116/116 [==============================] - 32s 275ms/step - loss: 0.2753 - accuracy: 0.9086 - val_loss: 0.5460 - val_accuracy: 0.8220\n",
      "Epoch 4/5\n",
      "116/116 [==============================] - 32s 274ms/step - loss: 0.1914 - accuracy: 0.9371 - val_loss: 0.6201 - val_accuracy: 0.8163\n",
      "Epoch 5/5\n",
      "116/116 [==============================] - 29s 249ms/step - loss: 0.1391 - accuracy: 0.9553 - val_loss: 0.7307 - val_accuracy: 0.8127\n"
     ]
    }
   ],
   "source": [
    "history3 = model3.fit(\n",
    "    x = df_train.tweet,\n",
    "    y = df_train.label.replace(lbl2idx),\n",
    "    epochs=5, \n",
    "    verbose=1, \n",
    "    validation_data = (df_valid.tweet, df_valid.label.replace(lbl2idx)),\n",
    "    batch_size = 1024,\n",
    "  )"
   ]
  },
  {
   "cell_type": "code",
   "execution_count": null,
   "metadata": {
    "colab": {
     "base_uri": "https://localhost:8080/"
    },
    "id": "ScV4n8bOS3HD",
    "outputId": "edd680f4-e7e8-48cd-ca41-bd070165dfe2"
   },
   "outputs": [
    {
     "name": "stdout",
     "output_type": "stream",
     "text": [
      "462/462 [==============================] - 5s 7ms/step\n"
     ]
    },
    {
     "data": {
      "text/plain": [
       "0.7733267006280761"
      ]
     },
     "execution_count": 84,
     "metadata": {},
     "output_type": "execute_result"
    }
   ],
   "source": [
    "preds_valid = model3.predict(df_valid.tweet)\n",
    "f1_score(df_valid.label.replace(lbl2idx), np.argmax(preds_valid, axis=-1), average='macro')"
   ]
  },
  {
   "cell_type": "markdown",
   "metadata": {
    "id": "irA_32VsUy6c"
   },
   "source": [
    "### Going deeper"
   ]
  },
  {
   "cell_type": "markdown",
   "metadata": {
    "id": "MNIl38EsU-bT"
   },
   "source": [
    "![](https://i.kym-cdn.com/photos/images/newsfeed/000/531/557/a88.jpg)\n"
   ]
  },
  {
   "cell_type": "code",
   "execution_count": null,
   "metadata": {
    "id": "lmH8LHtxTBui"
   },
   "outputs": [],
   "source": [
    "# Let's double the embedding dimension!\n",
    "model4 = Sequential([\n",
    "    Input(shape=(1,),dtype='string'),\n",
    "    encoder,\n",
    "    Embedding(\n",
    "        input_dim=VOCAB_SIZE,\n",
    "        output_dim=64*2,\n",
    "        # Use masking to handle the variable sequence lengths\n",
    "        mask_zero=True),\n",
    "    Bidirectional(LSTM(64,  return_sequences=True)),\n",
    "    Bidirectional(LSTM(32)),\n",
    "    Dense(64, activation='relu'),\n",
    "    Dense(5)\n",
    "])"
   ]
  },
  {
   "cell_type": "code",
   "execution_count": null,
   "metadata": {
    "id": "L38r7xcXUcC3"
   },
   "outputs": [],
   "source": [
    "model4.compile(loss=SparseCategoricalCrossentropy(from_logits=True), optimizer='adam', metrics=['accuracy'])"
   ]
  },
  {
   "cell_type": "code",
   "execution_count": null,
   "metadata": {
    "colab": {
     "base_uri": "https://localhost:8080/"
    },
    "id": "LBnmMbXxUeyi",
    "outputId": "51cd56f4-31f3-47df-98f7-7d8b1d26b29c"
   },
   "outputs": [
    {
     "name": "stdout",
     "output_type": "stream",
     "text": [
      "Epoch 1/5\n",
      "462/462 [==============================] - 133s 246ms/step - loss: 0.7308 - accuracy: 0.7272 - val_loss: 0.5192 - val_accuracy: 0.8209\n",
      "Epoch 2/5\n",
      "462/462 [==============================] - 71s 154ms/step - loss: 0.3430 - accuracy: 0.8836 - val_loss: 0.4987 - val_accuracy: 0.8272\n",
      "Epoch 3/5\n",
      "462/462 [==============================] - 62s 133ms/step - loss: 0.2169 - accuracy: 0.9284 - val_loss: 0.5721 - val_accuracy: 0.8174\n",
      "Epoch 4/5\n",
      "462/462 [==============================] - 53s 115ms/step - loss: 0.1499 - accuracy: 0.9502 - val_loss: 0.6483 - val_accuracy: 0.8140\n",
      "Epoch 5/5\n",
      "462/462 [==============================] - 51s 111ms/step - loss: 0.1105 - accuracy: 0.9637 - val_loss: 0.7536 - val_accuracy: 0.8098\n"
     ]
    }
   ],
   "source": [
    "history4 = model4.fit(\n",
    "    x = df_train.tweet,\n",
    "    y = df_train.label.replace(lbl2idx),\n",
    "    epochs=5, \n",
    "    verbose=1, \n",
    "    validation_data = (df_valid.tweet, df_valid.label.replace(lbl2idx)),\n",
    "    batch_size = 256,\n",
    "  )"
   ]
  },
  {
   "cell_type": "code",
   "execution_count": null,
   "metadata": {
    "colab": {
     "base_uri": "https://localhost:8080/"
    },
    "id": "Qq3neXRCUjPB",
    "outputId": "fec462a3-c973-421d-e491-d84378c9e380"
   },
   "outputs": [
    {
     "name": "stdout",
     "output_type": "stream",
     "text": [
      "462/462 [==============================] - 5s 12ms/step\n"
     ]
    },
    {
     "data": {
      "text/plain": [
       "0.771228564206637"
      ]
     },
     "execution_count": 29,
     "metadata": {},
     "output_type": "execute_result"
    }
   ],
   "source": [
    "preds_valid = model4.predict(df_valid.tweet)\n",
    "f1_score(df_valid.label.replace(lbl2idx), np.argmax(preds_valid, axis=-1), average='macro')"
   ]
  },
  {
   "cell_type": "markdown",
   "metadata": {
    "id": "yPNIc4qKy3Pt"
   },
   "source": [
    "### Trying dropout"
   ]
  },
  {
   "cell_type": "code",
   "execution_count": null,
   "metadata": {
    "colab": {
     "base_uri": "https://localhost:8080/"
    },
    "id": "yyLF0dFNy-uF",
    "outputId": "be86f9f4-797d-4936-b35e-fc54442daa37"
   },
   "outputs": [
    {
     "name": "stderr",
     "output_type": "stream",
     "text": [
      "WARNING:tensorflow:Layer lstm_4 will not use cuDNN kernels since it doesn't meet the criteria. It will use a generic GPU kernel as fallback when running on GPU.\n",
      "WARNING:tensorflow:Layer lstm_4 will not use cuDNN kernels since it doesn't meet the criteria. It will use a generic GPU kernel as fallback when running on GPU.\n",
      "WARNING:tensorflow:Layer lstm_4 will not use cuDNN kernels since it doesn't meet the criteria. It will use a generic GPU kernel as fallback when running on GPU.\n",
      "WARNING:tensorflow:Layer lstm_5 will not use cuDNN kernels since it doesn't meet the criteria. It will use a generic GPU kernel as fallback when running on GPU.\n",
      "WARNING:tensorflow:Layer lstm_5 will not use cuDNN kernels since it doesn't meet the criteria. It will use a generic GPU kernel as fallback when running on GPU.\n",
      "WARNING:tensorflow:Layer lstm_5 will not use cuDNN kernels since it doesn't meet the criteria. It will use a generic GPU kernel as fallback when running on GPU.\n"
     ]
    }
   ],
   "source": [
    "# Let's double the embedding dimension!\n",
    "model5 = Sequential([\n",
    "    Input(shape=(1,),dtype='string'),\n",
    "    encoder,\n",
    "    Embedding(\n",
    "        input_dim=VOCAB_SIZE,\n",
    "        output_dim=64*2,\n",
    "        # Use masking to handle the variable sequence lengths\n",
    "        mask_zero=True),\n",
    "    Bidirectional(LSTM(64,  return_sequences=True, dropout=0.2, recurrent_dropout=0.2)),\n",
    "    Bidirectional(LSTM(32, dropout=0.2, recurrent_dropout=0.2)),\n",
    "    Dense(64, activation='relu'),\n",
    "    Dense(5)\n",
    "])"
   ]
  },
  {
   "cell_type": "code",
   "execution_count": null,
   "metadata": {
    "id": "hhZ-egmGzBA-"
   },
   "outputs": [],
   "source": [
    "model5.compile(loss=SparseCategoricalCrossentropy(from_logits=True), optimizer='adam', metrics=['accuracy'])"
   ]
  },
  {
   "cell_type": "code",
   "execution_count": null,
   "metadata": {
    "colab": {
     "base_uri": "https://localhost:8080/"
    },
    "id": "Pz90KMrNzDYu",
    "outputId": "00ad1b39-02cc-4275-cdbf-15dc1e79de0a"
   },
   "outputs": [
    {
     "name": "stdout",
     "output_type": "stream",
     "text": [
      "924/924 [==============================] - 1962s 2s/step - loss: 0.6598 - accuracy: 0.7617 - val_loss: 0.4910 - val_accuracy: 0.8270\n"
     ]
    }
   ],
   "source": [
    "history5 = model5.fit(\n",
    "    x = df_train.tweet,\n",
    "    y = df_train.label.replace(lbl2idx),\n",
    "    epochs=1, \n",
    "    verbose=1, \n",
    "    validation_data = (df_valid.tweet, df_valid.label.replace(lbl2idx)),\n",
    "    batch_size = 128,\n",
    "  )"
   ]
  },
  {
   "cell_type": "code",
   "execution_count": null,
   "metadata": {
    "colab": {
     "base_uri": "https://localhost:8080/"
    },
    "id": "G8WoJ-gYzFB2",
    "outputId": "13550f28-ef96-4a5b-ca09-c8a92cd30882"
   },
   "outputs": [
    {
     "name": "stdout",
     "output_type": "stream",
     "text": [
      "462/462 [==============================] - 52s 111ms/step\n"
     ]
    },
    {
     "data": {
      "text/plain": [
       "0.7783550778062927"
      ]
     },
     "execution_count": 33,
     "metadata": {},
     "output_type": "execute_result"
    }
   ],
   "source": [
    "preds_valid = model5.predict(df_valid.tweet)\n",
    "f1_score(df_valid.label.replace(lbl2idx), np.argmax(preds_valid, axis=-1), average='macro')"
   ]
  },
  {
   "cell_type": "markdown",
   "metadata": {
    "id": "WOZElr5ehf_G"
   },
   "source": [
    "### Results & Conclusion"
   ]
  },
  {
   "cell_type": "markdown",
   "metadata": {
    "id": "p_DJvQLtWqWv"
   },
   "source": [
    "1. The embedding layers has much more trainable parameters compared to RNN/LSTM\n",
    "2. The models suffer from overfitting (Train_f1=0.95 valid_f1=0.7)\n",
    "3. Changing the embedding dimension didn't improve the f1 score much\n",
    "4. Stacking another LSTM layer also didn't improve the f1 score much\n",
    "\n",
    "We'll just use the original model since it's less complex"
   ]
  },
  {
   "cell_type": "markdown",
   "metadata": {
    "id": "zn3G6XwTOZBr"
   },
   "source": [
    "# Final Model"
   ]
  },
  {
   "cell_type": "code",
   "execution_count": null,
   "metadata": {
    "id": "HSF7onkMaBrC"
   },
   "outputs": [],
   "source": [
    "final_model = Sequential([\n",
    "    Input(shape=(1,),dtype='string'),\n",
    "    encoder,\n",
    "    Embedding(\n",
    "        input_dim=VOCAB_SIZE,\n",
    "        output_dim=64,\n",
    "        # Use masking to handle the variable sequence lengths\n",
    "        mask_zero=True),\n",
    "    Bidirectional(LSTM(64,)),\n",
    "    Dense(64, activation='relu'),\n",
    "    Dense(5)\n",
    "])"
   ]
  },
  {
   "cell_type": "code",
   "execution_count": null,
   "metadata": {
    "id": "FTHTCMI7aBrD"
   },
   "outputs": [],
   "source": [
    "final_model.compile(loss=SparseCategoricalCrossentropy(from_logits=True), optimizer='adam', metrics=['accuracy'])"
   ]
  },
  {
   "cell_type": "markdown",
   "metadata": {
    "id": "BU9Btv34aL5M"
   },
   "source": [
    "## Retraining on entire train + valid"
   ]
  },
  {
   "cell_type": "code",
   "execution_count": null,
   "metadata": {
    "id": "55lDE1WYaPy6"
   },
   "outputs": [],
   "source": [
    "df = pd.concat([df_train, df_valid], axis=0).sample(frac=1)"
   ]
  },
  {
   "cell_type": "code",
   "execution_count": null,
   "metadata": {
    "colab": {
     "base_uri": "https://localhost:8080/"
    },
    "id": "7GLzww0kaBrE",
    "outputId": "c3ba2c08-1e17-4abf-d5a2-2e33a38a663e"
   },
   "outputs": [
    {
     "name": "stdout",
     "output_type": "stream",
     "text": [
      "Epoch 1/3\n",
      "260/260 [==============================] - 82s 270ms/step - loss: 0.8975 - accuracy: 0.6581\n",
      "Epoch 2/3\n",
      "260/260 [==============================] - 59s 227ms/step - loss: 0.3941 - accuracy: 0.8651\n",
      "Epoch 3/3\n",
      "240/260 [==========================>...] - ETA: 3s - loss: 0.2532 - accuracy: 0.9152"
     ]
    }
   ],
   "source": [
    "final_history = final_model.fit(\n",
    "    x = df.tweet,\n",
    "    y = df.label.replace(lbl2idx),\n",
    "    epochs=3, \n",
    "    verbose=1, \n",
    "    batch_size = 512,\n",
    "  )"
   ]
  },
  {
   "cell_type": "markdown",
   "metadata": {
    "id": "JDhRNIzYa-tb"
   },
   "source": [
    "## Assessing on the test set"
   ]
  },
  {
   "cell_type": "code",
   "execution_count": null,
   "metadata": {
    "id": "ly5FZccybJ_T"
   },
   "outputs": [],
   "source": [
    "df_test = pd.read_csv(test_csv_file_path, lineterminator='\\n')"
   ]
  },
  {
   "cell_type": "code",
   "execution_count": null,
   "metadata": {
    "colab": {
     "base_uri": "https://localhost:8080/"
    },
    "id": "yRlX6kkxaBrE",
    "outputId": "e5951940-f0b3-45f4-f26a-4aab44bd6fe6"
   },
   "outputs": [
    {
     "name": "stdout",
     "output_type": "stream",
     "text": [
      "416/416 [==============================] - 6s 8ms/step\n"
     ]
    }
   ],
   "source": [
    "preds_valid = final_model.predict(df_test.tweet)"
   ]
  },
  {
   "cell_type": "code",
   "execution_count": null,
   "metadata": {
    "colab": {
     "base_uri": "https://localhost:8080/"
    },
    "id": "KKdH_aD9aBrF",
    "outputId": "a1b3d7d5-25fe-4e95-995d-a03c467d86d3"
   },
   "outputs": [
    {
     "data": {
      "text/plain": [
       "0.7801530245421613"
      ]
     },
     "execution_count": 83,
     "metadata": {},
     "output_type": "execute_result"
    }
   ],
   "source": [
    "f1_score(df_test.label.replace(lbl2idx), np.argmax(preds_valid, axis=-1), average='macro')"
   ]
  },
  {
   "cell_type": "markdown",
   "metadata": {
    "id": "iTxNnySMbj-T"
   },
   "source": [
    "## Saving Model"
   ]
  },
  {
   "cell_type": "code",
   "execution_count": null,
   "metadata": {
    "colab": {
     "base_uri": "https://localhost:8080/"
    },
    "id": "n3sJIfmNT4H2",
    "outputId": "54106f57-488a-4b8d-bc01-1e14a6a6c30c"
   },
   "outputs": [
    {
     "name": "stderr",
     "output_type": "stream",
     "text": [
      "WARNING:absl:Found untraced functions such as lstm_cell_25_layer_call_fn, lstm_cell_25_layer_call_and_return_conditional_losses, lstm_cell_26_layer_call_fn, lstm_cell_26_layer_call_and_return_conditional_losses while saving (showing 4 of 4). These functions will not be directly callable after loading.\n"
     ]
    }
   ],
   "source": [
    "if using_colab:\n",
    "  model2.save('bilstm_model')\n",
    "else:\n",
    "  model2.save('bilstm_model')"
   ]
  },
  {
   "cell_type": "code",
   "execution_count": null,
   "metadata": {
    "colab": {
     "base_uri": "https://localhost:8080/"
    },
    "id": "Wfos5uZnOfWM",
    "outputId": "c44099e9-aa0e-4ce6-9e7a-c96067a86d09"
   },
   "outputs": [
    {
     "name": "stderr",
     "output_type": "stream",
     "text": [
      "WARNING:tensorflow:Layer lstm_7 will not use cuDNN kernels since it doesn't meet the criteria. It will use a generic GPU kernel as fallback when running on GPU.\n",
      "WARNING:tensorflow:Layer lstm_7 will not use cuDNN kernels since it doesn't meet the criteria. It will use a generic GPU kernel as fallback when running on GPU.\n",
      "WARNING:tensorflow:Layer lstm_7 will not use cuDNN kernels since it doesn't meet the criteria. It will use a generic GPU kernel as fallback when running on GPU.\n"
     ]
    }
   ],
   "source": [
    "final_model = Sequential([\n",
    "    Input(shape=(1,),dtype='string'),\n",
    "    encoder,\n",
    "    Embedding(\n",
    "        input_dim=VOCAB_SIZE,\n",
    "        output_dim=64,\n",
    "        # Use masking to handle the variable sequence lengths\n",
    "        mask_zero=True),\n",
    "    Bidirectional(LSTM(64,)),\n",
    "    Dense(64, activation='relu'),\n",
    "    Dense(5)\n",
    "])"
   ]
  },
  {
   "cell_type": "code",
   "execution_count": null,
   "metadata": {
    "id": "cziN0aFwOfWN"
   },
   "outputs": [],
   "source": [
    "final_model.compile(loss=SparseCategoricalCrossentropy(from_logits=True), optimizer='adam', metrics=['accuracy'])"
   ]
  },
  {
   "cell_type": "code",
   "execution_count": null,
   "metadata": {
    "colab": {
     "base_uri": "https://localhost:8080/"
    },
    "id": "mitVoSdbOfWN",
    "outputId": "f1ab16a3-f31b-4c5f-ab5a-48b47547bd6b"
   },
   "outputs": [
    {
     "name": "stdout",
     "output_type": "stream",
     "text": [
      "Epoch 1/5\n",
      "117/117 [==============================] - 162s 1s/step - loss: 1.0895 - accuracy: 0.5724 - val_loss: 0.6490 - val_accuracy: 0.7696\n",
      "Epoch 2/5\n",
      "117/117 [==============================] - 155s 1s/step - loss: 0.4881 - accuracy: 0.8337 - val_loss: 0.5248 - val_accuracy: 0.8173\n",
      "Epoch 3/5\n",
      "117/117 [==============================] - 147s 1s/step - loss: 0.3303 - accuracy: 0.8879 - val_loss: 0.5333 - val_accuracy: 0.8224\n",
      "Epoch 4/5\n",
      "117/117 [==============================] - 151s 1s/step - loss: 0.2513 - accuracy: 0.9152 - val_loss: 0.6042 - val_accuracy: 0.8152\n",
      "Epoch 5/5\n",
      "117/117 [==============================] - 143s 1s/step - loss: 0.1984 - accuracy: 0.9327 - val_loss: 0.6644 - val_accuracy: 0.8102\n"
     ]
    }
   ],
   "source": [
    "history = model.fit(\n",
    "    x = df_train.tweet,\n",
    "    y = df_train.label.replace(lbl2idx),\n",
    "    epochs=4, \n",
    "    verbose=1, \n",
    "    validation_data = (df_valid.tweet, df_valid.label.replace(lbl2idx)),\n",
    "    batch_size = 1024,\n",
    "  )"
   ]
  },
  {
   "cell_type": "code",
   "execution_count": null,
   "metadata": {
    "colab": {
     "base_uri": "https://localhost:8080/"
    },
    "id": "2FTp-gBpOfWN",
    "outputId": "6a8bf7fe-9273-47c3-d434-6a7b4854f25e"
   },
   "outputs": [
    {
     "name": "stdout",
     "output_type": "stream",
     "text": [
      "416/416 [==============================] - 25s 58ms/step\n"
     ]
    }
   ],
   "source": [
    "preds_valid = model.predict(df_valid.tweet)"
   ]
  },
  {
   "cell_type": "code",
   "execution_count": null,
   "metadata": {
    "colab": {
     "base_uri": "https://localhost:8080/"
    },
    "id": "zdcZaqQjOfWN",
    "outputId": "04e41f4c-8325-4de5-c773-78c46498af39"
   },
   "outputs": [
    {
     "data": {
      "text/plain": [
       "0.7749578388615694"
      ]
     },
     "execution_count": 66,
     "metadata": {},
     "output_type": "execute_result"
    }
   ],
   "source": [
    "f1_score(df_valid.label.replace(lbl2idx), np.argmax(preds_valid, axis=-1), average='macro')"
   ]
  }
 ],
 "metadata": {
  "accelerator": "GPU",
  "colab": {
   "gpuType": "T4",
   "provenance": []
  },
  "gpuClass": "standard",
  "kernelspec": {
   "display_name": "Python 3 (ipykernel)",
   "language": "python",
   "name": "python3"
  },
  "language_info": {
   "codemirror_mode": {
    "name": "ipython",
    "version": 3
   },
   "file_extension": ".py",
   "mimetype": "text/x-python",
   "name": "python",
   "nbconvert_exporter": "python",
   "pygments_lexer": "ipython3",
   "version": "3.10.10"
  }
 },
 "nbformat": 4,
 "nbformat_minor": 4
}
