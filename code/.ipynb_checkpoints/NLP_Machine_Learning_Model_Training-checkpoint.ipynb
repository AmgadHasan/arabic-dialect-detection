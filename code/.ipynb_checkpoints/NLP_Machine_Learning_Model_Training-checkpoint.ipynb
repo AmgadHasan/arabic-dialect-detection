{
 "cells": [
  {
   "cell_type": "markdown",
   "metadata": {
    "id": "dlviwFBMN5hk"
   },
   "source": [
    "# Overview"
   ]
  },
  {
   "cell_type": "markdown",
   "metadata": {
    "id": "ySsIPBRiorxK"
   },
   "source": [
    "**Dataset**\n",
    "labeled datasset collected from twitter\n",
    "\n",
    "**Objective**\n",
    "Classify tweets according to the arabic dialect in the text. <br>"
   ]
  },
  {
   "cell_type": "markdown",
   "metadata": {
    "id": "v-6lrKz6orxT"
   },
   "source": [
    "## Import Libraries"
   ]
  },
  {
   "cell_type": "code",
   "execution_count": 1,
   "metadata": {
    "id": "rdCAiKotAhyL"
   },
   "outputs": [],
   "source": [
    "import os\n",
    "import pandas as pd\n",
    "import urllib\n",
    "\n",
    "from sklearn.model_selection import train_test_split\n",
    "from sklearn.feature_extraction.text import CountVectorizer, TfidfVectorizer\n",
    "from sklearn.linear_model import LogisticRegression\n",
    "from sklearn.svm import LinearSVC\n",
    "from sklearn.ensemble import StackingClassifier\n",
    "from sklearn.pipeline import make_pipeline\n",
    "from sklearn.base import BaseEstimator, TransformerMixin\n",
    "from sklearn.naive_bayes import MultinomialNB\n",
    "\n",
    "from sklearn.metrics import classification_report, f1_score\n",
    "\n",
    "import joblib  # For saving model"
   ]
  },
  {
   "cell_type": "code",
   "execution_count": 2,
   "metadata": {
    "id": "JaQKJqhOkz6f"
   },
   "outputs": [],
   "source": [
    "SEED = 42"
   ]
  },
  {
   "cell_type": "markdown",
   "metadata": {
    "id": "fG8MkuvjorxX"
   },
   "source": [
    "## Load Dataset"
   ]
  },
  {
   "cell_type": "code",
   "execution_count": 3,
   "metadata": {
    "id": "QwFi1rF9kUDL"
   },
   "outputs": [],
   "source": [
    "# Check whether we're using google colab\n",
    "using_colab = None\n",
    "CWD = os.getcwd()\n",
    "if os.path.exists('/content'):\n",
    "  using_colab = True\n",
    "else:\n",
    "  using_colab = False\n",
    "  PWD = os.path.dirname(CWD)"
   ]
  },
  {
   "cell_type": "code",
   "execution_count": 4,
   "metadata": {
    "id": "sCX18CxqkWmi"
   },
   "outputs": [],
   "source": [
    "if using_colab:  #Check if using Colab\n",
    "    data_folder_path = CWD #+ \"/data/\"\n",
    "else:\n",
    "    data_folder_path = PWD + \"/data/\"\n",
    "train_csv_file_path = data_folder_path + \"/\" + \"arabic_dialects_train.csv\"\n",
    "test_csv_file_path = data_folder_path + \"/\" + \"arabic_dialects_test.csv\""
   ]
  },
  {
   "cell_type": "code",
   "execution_count": 5,
   "metadata": {
    "id": "e52WeWDoJBn1"
   },
   "outputs": [],
   "source": [
    "pd.set_option('display.max_colwidth', 0)"
   ]
  },
  {
   "cell_type": "code",
   "execution_count": 6,
   "metadata": {
    "id": "BjndJLXtCHft"
   },
   "outputs": [],
   "source": [
    "train_url = 'https://github.com/AmgadHasan/arabic-dialect-detection/raw/main/data/arabic_dialects_train.csv'\n",
    "test_url = 'https://github.com/AmgadHasan/arabic-dialect-detection/raw/main/data/arabic_dialects_test.csv'"
   ]
  },
  {
   "cell_type": "code",
   "execution_count": 7,
   "metadata": {
    "colab": {
     "base_uri": "https://localhost:8080/"
    },
    "id": "VN2EYLNGB9KW",
    "outputId": "1d12d942-9992-4a8d-afe2-94cd03b511c6"
   },
   "outputs": [
    {
     "name": "stdout",
     "output_type": "stream",
     "text": [
      "File exists.\n"
     ]
    }
   ],
   "source": [
    "if not os.path.isfile(train_csv_file_path):\n",
    "    # If the file doesn't exist, download it from the URL\n",
    "    print(\"Downloading file...\")\n",
    "    urllib.request.urlretrieve(train_url, train_csv_file_path)\n",
    "    print(\"File downloaded.\")\n",
    "else:\n",
    "    print(\"File exists.\")"
   ]
  },
  {
   "cell_type": "code",
   "execution_count": 8,
   "metadata": {
    "colab": {
     "base_uri": "https://localhost:8080/"
    },
    "id": "3yT4uGhnCEne",
    "outputId": "56d8ee67-4e70-436c-b18a-d251a1fde908"
   },
   "outputs": [
    {
     "name": "stdout",
     "output_type": "stream",
     "text": [
      "File exists.\n"
     ]
    }
   ],
   "source": [
    "if not os.path.isfile(test_csv_file_path):\n",
    "    # If the file doesn't exist, download it from the URL\n",
    "    print(\"Downloading file...\")\n",
    "    urllib.request.urlretrieve(test_url, test_csv_file_path)\n",
    "    print(\"File downloaded.\")\n",
    "else:\n",
    "    print(\"File exists.\")"
   ]
  },
  {
   "cell_type": "code",
   "execution_count": 9,
   "metadata": {
    "colab": {
     "base_uri": "https://localhost:8080/",
     "height": 206
    },
    "id": "0f2xmuGjorxZ",
    "outputId": "67c450ac-7e20-43e2-ac10-8c40487c5ff7"
   },
   "outputs": [
    {
     "data": {
      "text/html": [
       "<div>\n",
       "<style scoped>\n",
       "    .dataframe tbody tr th:only-of-type {\n",
       "        vertical-align: middle;\n",
       "    }\n",
       "\n",
       "    .dataframe tbody tr th {\n",
       "        vertical-align: top;\n",
       "    }\n",
       "\n",
       "    .dataframe thead th {\n",
       "        text-align: right;\n",
       "    }\n",
       "</style>\n",
       "<table border=\"1\" class=\"dataframe\">\n",
       "  <thead>\n",
       "    <tr style=\"text-align: right;\">\n",
       "      <th></th>\n",
       "      <th>tweet</th>\n",
       "      <th>label</th>\n",
       "    </tr>\n",
       "  </thead>\n",
       "  <tbody>\n",
       "    <tr>\n",
       "      <th>0</th>\n",
       "      <td>انتي جافية والا الغلا ماتبيسؤالموسيقي</td>\n",
       "      <td>LY</td>\n",
       "    </tr>\n",
       "    <tr>\n",
       "      <th>1</th>\n",
       "      <td>باركوا لجوجو  اجاها عريس</td>\n",
       "      <td>LB</td>\n",
       "    </tr>\n",
       "    <tr>\n",
       "      <th>2</th>\n",
       "      <td>لابأس عليك يالزينه ان شاء الله هذا حد السو</td>\n",
       "      <td>LY</td>\n",
       "    </tr>\n",
       "    <tr>\n",
       "      <th>3</th>\n",
       "      <td>الزن ده هو اكتر حاجة مدمرة للسلام النفسي واحنا بصراحة سلامنا النفسي اهم من كل شيء الحياة قصيرة ومش مستحملة حوارات كتير</td>\n",
       "      <td>EG</td>\n",
       "    </tr>\n",
       "    <tr>\n",
       "      <th>4</th>\n",
       "      <td>الكوت كلها ناس بتدور ع علاقات تانيه بس تكون احلي م اللي لسه خالصه اول انبارح</td>\n",
       "      <td>EG</td>\n",
       "    </tr>\n",
       "  </tbody>\n",
       "</table>\n",
       "</div>"
      ],
      "text/plain": [
       "                                                                                                                      tweet   \n",
       "0  انتي جافية والا الغلا ماتبيسؤالموسيقي                                                                                     \\\n",
       "1   باركوا لجوجو  اجاها عريس                                                                                                  \n",
       "2   لابأس عليك يالزينه ان شاء الله هذا حد السو                                                                                \n",
       "3  الزن ده هو اكتر حاجة مدمرة للسلام النفسي واحنا بصراحة سلامنا النفسي اهم من كل شيء الحياة قصيرة ومش مستحملة حوارات كتير     \n",
       "4   الكوت كلها ناس بتدور ع علاقات تانيه بس تكون احلي م اللي لسه خالصه اول انبارح                                              \n",
       "\n",
       "  label  \n",
       "0  LY    \n",
       "1  LB    \n",
       "2  LY    \n",
       "3  EG    \n",
       "4  EG    "
      ]
     },
     "execution_count": 9,
     "metadata": {},
     "output_type": "execute_result"
    }
   ],
   "source": [
    "df = pd.read_csv(train_csv_file_path, lineterminator='\\n')\n",
    "pd.set_option('display.max_colwidth', 0)\n",
    "df.head()"
   ]
  },
  {
   "cell_type": "markdown",
   "metadata": {
    "id": "f7y6rJ9GN2fs"
   },
   "source": [
    "# Train Validation Splitting"
   ]
  },
  {
   "cell_type": "code",
   "execution_count": 95,
   "metadata": {
    "colab": {
     "base_uri": "https://localhost:8080/"
    },
    "id": "fTusQRPGOZVM",
    "outputId": "c8c30832-d6d3-4873-f376-c29bf701b6a5"
   },
   "outputs": [
    {
     "data": {
      "text/plain": [
       "((132952, 2), Index(['tweet', 'label'], dtype='object'))"
      ]
     },
     "execution_count": 95,
     "metadata": {},
     "output_type": "execute_result"
    }
   ],
   "source": [
    "df.shape, df.columns"
   ]
  },
  {
   "cell_type": "code",
   "execution_count": 96,
   "metadata": {
    "id": "HIL_jGl1OQAM"
   },
   "outputs": [],
   "source": [
    "df_train, df_valid = train_test_split(df, test_size=0.1, stratify=df['label'], random_state=SEED)"
   ]
  },
  {
   "cell_type": "code",
   "execution_count": 11,
   "metadata": {
    "colab": {
     "base_uri": "https://localhost:8080/"
    },
    "id": "2KvPLmoJOrrc",
    "outputId": "c3e46fb4-71f7-479c-daaf-4829036256c9"
   },
   "outputs": [
    {
     "data": {
      "text/plain": [
       "(EG    46685\n",
       " LY    29564\n",
       " LB    22369\n",
       " SD    11692\n",
       " MA    9346 \n",
       " Name: label, dtype: int64,\n",
       " EG    5187\n",
       " LY    3285\n",
       " LB    2486\n",
       " SD    1299\n",
       " MA    1039\n",
       " Name: label, dtype: int64,\n",
       " EG    5187\n",
       " LY    3285\n",
       " LB    2486\n",
       " SD    1299\n",
       " MA    1039\n",
       " Name: label, dtype: int64)"
      ]
     },
     "execution_count": 11,
     "metadata": {},
     "output_type": "execute_result"
    }
   ],
   "source": [
    "df_train.label.value_counts(), df_valid.label.value_counts(), df_valid.label.value_counts()"
   ]
  },
  {
   "cell_type": "markdown",
   "metadata": {
    "id": "R9BhRQbYorxf"
   },
   "source": [
    "# Modelling"
   ]
  },
  {
   "cell_type": "code",
   "execution_count": 12,
   "metadata": {
    "colab": {
     "base_uri": "https://localhost:8080/"
    },
    "id": "LP5FZzmborxg",
    "outputId": "e1f2e72c-8d03-4061-caf7-7ea26a4efed1"
   },
   "outputs": [
    {
     "name": "stderr",
     "output_type": "stream",
     "text": [
      "/usr/local/lib/python3.10/dist-packages/sklearn/linear_model/_logistic.py:458: ConvergenceWarning: lbfgs failed to converge (status=1):\n",
      "STOP: TOTAL NO. of ITERATIONS REACHED LIMIT.\n",
      "\n",
      "Increase the number of iterations (max_iter) or scale the data as shown in:\n",
      "    https://scikit-learn.org/stable/modules/preprocessing.html\n",
      "Please also refer to the documentation for alternative solver options:\n",
      "    https://scikit-learn.org/stable/modules/linear_model.html#logistic-regression\n",
      "  n_iter_i = _check_optimize_result(\n"
     ]
    }
   ],
   "source": [
    "vec0 = CountVectorizer()\n",
    "clf0 = LogisticRegression(max_iter=200)\n",
    "pipe0 = make_pipeline(vec0, clf0)\n",
    "pipe0.fit(df_train.tweet, df_train.label);"
   ]
  },
  {
   "cell_type": "markdown",
   "metadata": {
    "id": "85JlkIQXorxg"
   },
   "source": [
    "# Evaluation f1_macro 0.791\n",
    "Old: 0.78\n",
    "New: 0.791"
   ]
  },
  {
   "cell_type": "code",
   "execution_count": 13,
   "metadata": {
    "id": "37C70N6Aorxh"
   },
   "outputs": [],
   "source": [
    "def print_report(pipe, x_test, y_test):\n",
    "    y_pred = pipe.predict(x_test)\n",
    "    report = classification_report(y_test, y_pred)\n",
    "    print(report)\n",
    "    print(\"macro f1_score: {:0.3f}\".format(f1_score(y_test, y_pred, average='macro')))"
   ]
  },
  {
   "cell_type": "code",
   "execution_count": 14,
   "metadata": {
    "colab": {
     "base_uri": "https://localhost:8080/"
    },
    "id": "xgBGntQiFUhZ",
    "outputId": "d2fb261b-9a1a-4ef0-f363-8b5b48f78282"
   },
   "outputs": [
    {
     "name": "stdout",
     "output_type": "stream",
     "text": [
      "              precision    recall  f1-score   support\n",
      "\n",
      "          EG       0.83      0.92      0.87      5187\n",
      "          LB       0.86      0.84      0.85      2486\n",
      "          LY       0.79      0.81      0.80      3285\n",
      "          MA       0.84      0.69      0.76      1039\n",
      "          SD       0.80      0.58      0.67      1299\n",
      "\n",
      "    accuracy                           0.83     13296\n",
      "   macro avg       0.83      0.77      0.79     13296\n",
      "weighted avg       0.83      0.83      0.82     13296\n",
      "\n",
      "macro f1_score: 0.791\n"
     ]
    }
   ],
   "source": [
    "print_report(pipe0, df_valid.tweet, df_valid.label)"
   ]
  },
  {
   "cell_type": "markdown",
   "metadata": {
    "id": "fhVFUaIcorxh"
   },
   "source": [
    "# Enhancement\n",
    "\n",
    "- Using different N-grams\n",
    "- Using different text representation technique"
   ]
  },
  {
   "cell_type": "markdown",
   "metadata": {
    "id": "_onoremtifO1"
   },
   "source": [
    "## 1. Using TfidfVectorizer f1_macro  0.783\n",
    "Old: 0.77\n",
    "New: 0.783"
   ]
  },
  {
   "cell_type": "code",
   "execution_count": 15,
   "metadata": {
    "colab": {
     "base_uri": "https://localhost:8080/"
    },
    "id": "Q26umznuiEgb",
    "outputId": "aacdb4ca-8aaa-46be-d18d-6e194c580379"
   },
   "outputs": [
    {
     "name": "stderr",
     "output_type": "stream",
     "text": [
      "/usr/local/lib/python3.10/dist-packages/sklearn/linear_model/_logistic.py:458: ConvergenceWarning: lbfgs failed to converge (status=1):\n",
      "STOP: TOTAL NO. of ITERATIONS REACHED LIMIT.\n",
      "\n",
      "Increase the number of iterations (max_iter) or scale the data as shown in:\n",
      "    https://scikit-learn.org/stable/modules/preprocessing.html\n",
      "Please also refer to the documentation for alternative solver options:\n",
      "    https://scikit-learn.org/stable/modules/linear_model.html#logistic-regression\n",
      "  n_iter_i = _check_optimize_result(\n"
     ]
    }
   ],
   "source": [
    "vec1 = TfidfVectorizer()\n",
    "clf1 = LogisticRegression()\n",
    "pipe1 = make_pipeline(vec1, clf1)\n",
    "pipe1.fit(df_train.tweet, df_train.label);"
   ]
  },
  {
   "cell_type": "code",
   "execution_count": 16,
   "metadata": {
    "colab": {
     "base_uri": "https://localhost:8080/"
    },
    "id": "_gN9SsbUiEgb",
    "outputId": "56c6542c-7b8c-41c5-9be6-2e73fa5e9787"
   },
   "outputs": [
    {
     "data": {
      "text/plain": [
       "(234140,)"
      ]
     },
     "execution_count": 16,
     "metadata": {},
     "output_type": "execute_result"
    }
   ],
   "source": [
    "feature_names = pipe1[0].get_feature_names_out()\n",
    "feature_names.shape"
   ]
  },
  {
   "cell_type": "code",
   "execution_count": 17,
   "metadata": {
    "colab": {
     "base_uri": "https://localhost:8080/"
    },
    "id": "Y4h1Danvorxh",
    "outputId": "bd8feabf-b19a-4eb2-b10b-7c470de741a7"
   },
   "outputs": [
    {
     "name": "stdout",
     "output_type": "stream",
     "text": [
      "              precision    recall  f1-score   support\n",
      "\n",
      "          EG       0.81      0.93      0.87      5187\n",
      "          LB       0.86      0.82      0.84      2486\n",
      "          LY       0.79      0.81      0.80      3285\n",
      "          MA       0.87      0.66      0.75      1039\n",
      "          SD       0.86      0.53      0.66      1299\n",
      "\n",
      "    accuracy                           0.82     13296\n",
      "   macro avg       0.84      0.75      0.78     13296\n",
      "weighted avg       0.82      0.82      0.82     13296\n",
      "\n",
      "macro f1_score: 0.783\n"
     ]
    }
   ],
   "source": [
    "print_report(pipe1, df_valid.tweet, df_valid.label)"
   ]
  },
  {
   "cell_type": "markdown",
   "metadata": {
    "id": "x7oOaFGwlVke"
   },
   "source": [
    "<font color='darkOrange' size='4'>\n",
    "Using Tf-Idf lowered the score!\n",
    "</font>"
   ]
  },
  {
   "cell_type": "markdown",
   "metadata": {
    "id": "KOc0cytxijTW"
   },
   "source": [
    "## 2. Using SVC f1_macro 0.785\n",
    "Old: 0.77\n",
    "New: 0.785"
   ]
  },
  {
   "cell_type": "code",
   "execution_count": 18,
   "metadata": {
    "colab": {
     "base_uri": "https://localhost:8080/"
    },
    "id": "Ot_q_U-AimVp",
    "outputId": "23a1870b-ad12-4a23-ead6-5d02b1f754f7"
   },
   "outputs": [
    {
     "name": "stderr",
     "output_type": "stream",
     "text": [
      "/usr/local/lib/python3.10/dist-packages/sklearn/svm/_base.py:1244: ConvergenceWarning: Liblinear failed to converge, increase the number of iterations.\n",
      "  warnings.warn(\n"
     ]
    }
   ],
   "source": [
    "vec2 = CountVectorizer()\n",
    "clf2 = LinearSVC()\n",
    "pipe2 = make_pipeline(vec2, clf2)\n",
    "pipe2.fit(df_train.tweet, df_train.label);"
   ]
  },
  {
   "cell_type": "code",
   "execution_count": 19,
   "metadata": {
    "colab": {
     "base_uri": "https://localhost:8080/"
    },
    "id": "-9xOnGscimVp",
    "outputId": "12279b7d-8bf8-4ea4-d03f-bd39e39743c8"
   },
   "outputs": [
    {
     "data": {
      "text/plain": [
       "(234140,)"
      ]
     },
     "execution_count": 19,
     "metadata": {},
     "output_type": "execute_result"
    }
   ],
   "source": [
    "feature_names = pipe2[0].get_feature_names_out()\n",
    "feature_names.shape"
   ]
  },
  {
   "cell_type": "code",
   "execution_count": 20,
   "metadata": {
    "colab": {
     "base_uri": "https://localhost:8080/"
    },
    "id": "ivOsVyD4imVp",
    "outputId": "46b8b79a-ef73-4415-e2a6-9abb9bf2c58e"
   },
   "outputs": [
    {
     "name": "stdout",
     "output_type": "stream",
     "text": [
      "              precision    recall  f1-score   support\n",
      "\n",
      "          EG       0.83      0.90      0.87      5187\n",
      "          LB       0.86      0.83      0.85      2486\n",
      "          LY       0.79      0.80      0.79      3285\n",
      "          MA       0.80      0.71      0.75      1039\n",
      "          SD       0.75      0.60      0.67      1299\n",
      "\n",
      "    accuracy                           0.82     13296\n",
      "   macro avg       0.81      0.77      0.78     13296\n",
      "weighted avg       0.82      0.82      0.82     13296\n",
      "\n",
      "macro f1_score: 0.785\n"
     ]
    }
   ],
   "source": [
    "print_report(pipe2, df_valid.tweet, df_valid.label)"
   ]
  },
  {
   "cell_type": "markdown",
   "metadata": {
    "id": "dSE1f7dJl2c2"
   },
   "source": [
    "<font color='darkOrange' size='4'>\n",
    "Using SVM Classifier did NOT improve the score!\n",
    "</font>"
   ]
  },
  {
   "cell_type": "markdown",
   "metadata": {
    "id": "GzmJOpK8l8NN"
   },
   "source": [
    "## 3. Using ngram Tf-Idf + SVC f1_macro 0.81\n",
    "Old: 0.80\n",
    "New: 0.81"
   ]
  },
  {
   "cell_type": "code",
   "execution_count": 21,
   "metadata": {
    "id": "o4zRYuDQl8NN"
   },
   "outputs": [],
   "source": [
    "vec3 = TfidfVectorizer( ngram_range=(1, 2))\n",
    "clf3 = LinearSVC()\n",
    "pipe3 = make_pipeline(vec3, clf3)\n",
    "pipe3.fit(df_train.tweet, df_train.label);"
   ]
  },
  {
   "cell_type": "code",
   "execution_count": 22,
   "metadata": {
    "colab": {
     "base_uri": "https://localhost:8080/"
    },
    "id": "KxxXupMwl8NO",
    "outputId": "5da1c165-8995-4953-9556-82e8c1383ca9"
   },
   "outputs": [
    {
     "data": {
      "text/plain": [
       "(1331139,)"
      ]
     },
     "execution_count": 22,
     "metadata": {},
     "output_type": "execute_result"
    }
   ],
   "source": [
    "feature_names = pipe3[0].get_feature_names_out()\n",
    "feature_names.shape"
   ]
  },
  {
   "cell_type": "code",
   "execution_count": 23,
   "metadata": {
    "colab": {
     "base_uri": "https://localhost:8080/"
    },
    "id": "-Eg2DzWrl8NO",
    "outputId": "8ecab37d-bf86-43f6-a68c-40bef8e776a5"
   },
   "outputs": [
    {
     "name": "stdout",
     "output_type": "stream",
     "text": [
      "              precision    recall  f1-score   support\n",
      "\n",
      "          EG       0.84      0.94      0.89      5187\n",
      "          LB       0.87      0.86      0.86      2486\n",
      "          LY       0.83      0.82      0.82      3285\n",
      "          MA       0.85      0.72      0.78      1039\n",
      "          SD       0.84      0.59      0.70      1299\n",
      "\n",
      "    accuracy                           0.84     13296\n",
      "   macro avg       0.84      0.79      0.81     13296\n",
      "weighted avg       0.84      0.84      0.84     13296\n",
      "\n",
      "macro f1_score: 0.810\n"
     ]
    }
   ],
   "source": [
    "print_report(pipe3, df_valid.tweet, df_valid.label)"
   ]
  },
  {
   "cell_type": "markdown",
   "metadata": {
    "id": "SmphgSrjgGWB"
   },
   "source": [
    "<font color='darkOrange' size='4'>\n",
    "Using ngram_range=(1, 2)  improved the score!\n",
    "</font>"
   ]
  },
  {
   "cell_type": "markdown",
   "metadata": {
    "id": "DeQQq0_qenNZ"
   },
   "source": [
    "## 4. Using ngram Tf-Idf + Naive Bayes f1_macro 0.512"
   ]
  },
  {
   "cell_type": "code",
   "execution_count": 24,
   "metadata": {
    "id": "PDfg7nFUenN3"
   },
   "outputs": [],
   "source": [
    "vec4 = TfidfVectorizer( ngram_range=(1, 2))\n",
    "clf4 = MultinomialNB(force_alpha=True)\n",
    "pipe4 = make_pipeline(vec4, clf4)\n",
    "pipe4.fit(df_train.tweet, df_train.label);"
   ]
  },
  {
   "cell_type": "code",
   "execution_count": 25,
   "metadata": {
    "colab": {
     "base_uri": "https://localhost:8080/"
    },
    "id": "K5Qviz4aenN3",
    "outputId": "86195848-6143-4909-fa22-04307294ad3d"
   },
   "outputs": [
    {
     "data": {
      "text/plain": [
       "(1331139,)"
      ]
     },
     "execution_count": 25,
     "metadata": {},
     "output_type": "execute_result"
    }
   ],
   "source": [
    "feature_names = pipe4[0].get_feature_names_out()\n",
    "feature_names.shape"
   ]
  },
  {
   "cell_type": "code",
   "execution_count": 26,
   "metadata": {
    "colab": {
     "base_uri": "https://localhost:8080/"
    },
    "id": "ZCS95kAuenN4",
    "outputId": "7f39b456-c496-46bb-df5f-77bbcc555d68"
   },
   "outputs": [
    {
     "name": "stdout",
     "output_type": "stream",
     "text": [
      "              precision    recall  f1-score   support\n",
      "\n",
      "          EG       0.57      0.99      0.72      5187\n",
      "          LB       0.97      0.62      0.75      2486\n",
      "          LY       0.83      0.60      0.70      3285\n",
      "          MA       1.00      0.16      0.28      1039\n",
      "          SD       0.99      0.05      0.10      1299\n",
      "\n",
      "    accuracy                           0.67     13296\n",
      "   macro avg       0.87      0.49      0.51     13296\n",
      "weighted avg       0.78      0.67      0.63     13296\n",
      "\n",
      "macro f1_score: 0.512\n"
     ]
    }
   ],
   "source": [
    "print_report(pipe4, df_valid.tweet, df_valid.label)"
   ]
  },
  {
   "cell_type": "markdown",
   "metadata": {
    "id": "9bOCcA3EgQyR"
   },
   "source": [
    "<font color='darkOrange' size='4'>\n",
    "Using naive bayes did NOT improve the score!\n",
    "</font>"
   ]
  },
  {
   "cell_type": "markdown",
   "metadata": {
    "id": "CM0bdhRgSc2c"
   },
   "source": [
    "## 5. Using another ngram Tf-Idf + SVC f1_macro 0.802\n",
    "Old: 0.79\n",
    "New: 0.802"
   ]
  },
  {
   "cell_type": "code",
   "execution_count": 27,
   "metadata": {
    "id": "jLmMS0D1Sc2j"
   },
   "outputs": [],
   "source": [
    "vec5 = TfidfVectorizer( ngram_range=(1, 3))\n",
    "clf5 = LinearSVC()\n",
    "pipe5 = make_pipeline(vec5, clf5)\n",
    "pipe5.fit(df_train.tweet, df_train.label);"
   ]
  },
  {
   "cell_type": "code",
   "execution_count": 28,
   "metadata": {
    "colab": {
     "base_uri": "https://localhost:8080/"
    },
    "id": "ffVFeM2-Sc2j",
    "outputId": "deed4ddb-8651-4f8a-92d1-6c6edf3072fa"
   },
   "outputs": [
    {
     "data": {
      "text/plain": [
       "(2625707,)"
      ]
     },
     "execution_count": 28,
     "metadata": {},
     "output_type": "execute_result"
    }
   ],
   "source": [
    "feature_names = pipe5[0].get_feature_names_out()\n",
    "feature_names.shape"
   ]
  },
  {
   "cell_type": "code",
   "execution_count": 29,
   "metadata": {
    "colab": {
     "base_uri": "https://localhost:8080/"
    },
    "id": "HRdu-PcQSc2k",
    "outputId": "5b8561b4-c25b-4119-bde1-459b3d61b211"
   },
   "outputs": [
    {
     "name": "stdout",
     "output_type": "stream",
     "text": [
      "              precision    recall  f1-score   support\n",
      "\n",
      "          EG       0.83      0.93      0.88      5187\n",
      "          LB       0.86      0.85      0.86      2486\n",
      "          LY       0.82      0.81      0.82      3285\n",
      "          MA       0.84      0.71      0.77      1039\n",
      "          SD       0.83      0.58      0.69      1299\n",
      "\n",
      "    accuracy                           0.84     13296\n",
      "   macro avg       0.84      0.78      0.80     13296\n",
      "weighted avg       0.84      0.84      0.83     13296\n",
      "\n",
      "macro f1_score: 0.802\n"
     ]
    }
   ],
   "source": [
    "print_report(pipe5, df_valid.tweet, df_valid.label)"
   ]
  },
  {
   "cell_type": "markdown",
   "metadata": {
    "id": "Sv45ZoJPStNh"
   },
   "source": [
    "## 6. Using ngram Count_vect + SVC f1_macro 0.796\n",
    "Old: 0.80\n",
    "New: 0.796"
   ]
  },
  {
   "cell_type": "code",
   "execution_count": 30,
   "metadata": {
    "colab": {
     "base_uri": "https://localhost:8080/"
    },
    "id": "ykOHDJ4LStNr",
    "outputId": "e38daa38-0e7a-49b0-8a08-c48e215cdb47"
   },
   "outputs": [
    {
     "name": "stderr",
     "output_type": "stream",
     "text": [
      "/usr/local/lib/python3.10/dist-packages/sklearn/svm/_base.py:1244: ConvergenceWarning: Liblinear failed to converge, increase the number of iterations.\n",
      "  warnings.warn(\n"
     ]
    }
   ],
   "source": [
    "vec6 = CountVectorizer( ngram_range=(1, 2))\n",
    "clf6 = LinearSVC()\n",
    "pipe6 = make_pipeline(vec6, clf6)\n",
    "pipe6.fit(df_train.tweet, df_train.label);"
   ]
  },
  {
   "cell_type": "code",
   "execution_count": 31,
   "metadata": {
    "colab": {
     "base_uri": "https://localhost:8080/"
    },
    "id": "7SxWWwg2StNr",
    "outputId": "ad9c4f84-a2ae-4c05-9455-f6347f992d67"
   },
   "outputs": [
    {
     "data": {
      "text/plain": [
       "(1331139,)"
      ]
     },
     "execution_count": 31,
     "metadata": {},
     "output_type": "execute_result"
    }
   ],
   "source": [
    "feature_names = pipe6[0].get_feature_names_out()\n",
    "feature_names.shape"
   ]
  },
  {
   "cell_type": "code",
   "execution_count": 32,
   "metadata": {
    "colab": {
     "base_uri": "https://localhost:8080/"
    },
    "id": "cInyf5sHStNr",
    "outputId": "57f7720f-3d7e-47b8-da70-5011aec3b0a1"
   },
   "outputs": [
    {
     "name": "stdout",
     "output_type": "stream",
     "text": [
      "              precision    recall  f1-score   support\n",
      "\n",
      "          EG       0.83      0.92      0.88      5187\n",
      "          LB       0.86      0.84      0.85      2486\n",
      "          LY       0.80      0.82      0.81      3285\n",
      "          MA       0.86      0.70      0.77      1039\n",
      "          SD       0.81      0.57      0.67      1299\n",
      "\n",
      "    accuracy                           0.83     13296\n",
      "   macro avg       0.83      0.77      0.80     13296\n",
      "weighted avg       0.83      0.83      0.83     13296\n",
      "\n",
      "macro f1_score: 0.796\n"
     ]
    }
   ],
   "source": [
    "print_report(pipe6, df_valid.tweet, df_valid.label)"
   ]
  },
  {
   "cell_type": "markdown",
   "metadata": {
    "id": "Z0FzCjb7gsBi"
   },
   "source": [
    "## 7. Using ngram Tf-Idf + Logistic f1_macro 0.771\n",
    "Old: 0.\n",
    "New: 0.771"
   ]
  },
  {
   "cell_type": "code",
   "execution_count": 33,
   "metadata": {
    "colab": {
     "base_uri": "https://localhost:8080/"
    },
    "id": "IffohBSjgsBl",
    "outputId": "cf72a604-abb4-42c7-f4d1-50bb9985ab0e"
   },
   "outputs": [
    {
     "name": "stderr",
     "output_type": "stream",
     "text": [
      "/usr/local/lib/python3.10/dist-packages/sklearn/linear_model/_logistic.py:458: ConvergenceWarning: lbfgs failed to converge (status=1):\n",
      "STOP: TOTAL NO. of ITERATIONS REACHED LIMIT.\n",
      "\n",
      "Increase the number of iterations (max_iter) or scale the data as shown in:\n",
      "    https://scikit-learn.org/stable/modules/preprocessing.html\n",
      "Please also refer to the documentation for alternative solver options:\n",
      "    https://scikit-learn.org/stable/modules/linear_model.html#logistic-regression\n",
      "  n_iter_i = _check_optimize_result(\n"
     ]
    }
   ],
   "source": [
    "vec7 = TfidfVectorizer( ngram_range=(1, 2))\n",
    "clf7 = LogisticRegression()\n",
    "pipe7 = make_pipeline(vec7, clf7)\n",
    "pipe7.fit(df_train.tweet, df_train.label);"
   ]
  },
  {
   "cell_type": "code",
   "execution_count": 34,
   "metadata": {
    "colab": {
     "base_uri": "https://localhost:8080/"
    },
    "id": "Z4PgnY5zgsBm",
    "outputId": "377f7cf5-68f2-49bb-bdcf-d83bfcc5da1b"
   },
   "outputs": [
    {
     "data": {
      "text/plain": [
       "(1331139,)"
      ]
     },
     "execution_count": 34,
     "metadata": {},
     "output_type": "execute_result"
    }
   ],
   "source": [
    "feature_names = pipe7[0].get_feature_names_out()\n",
    "feature_names.shape"
   ]
  },
  {
   "cell_type": "code",
   "execution_count": 35,
   "metadata": {
    "colab": {
     "base_uri": "https://localhost:8080/"
    },
    "id": "zW-d6CajgsBn",
    "outputId": "860c3d56-fe28-4e1f-fae1-9e183c93ef01"
   },
   "outputs": [
    {
     "name": "stdout",
     "output_type": "stream",
     "text": [
      "              precision    recall  f1-score   support\n",
      "\n",
      "          EG       0.80      0.93      0.86      5187\n",
      "          LB       0.85      0.81      0.83      2486\n",
      "          LY       0.78      0.80      0.79      3285\n",
      "          MA       0.85      0.64      0.73      1039\n",
      "          SD       0.85      0.52      0.64      1299\n",
      "\n",
      "    accuracy                           0.81     13296\n",
      "   macro avg       0.83      0.74      0.77     13296\n",
      "weighted avg       0.81      0.81      0.81     13296\n",
      "\n",
      "macro f1_score: 0.771\n"
     ]
    }
   ],
   "source": [
    "print_report(pipe7, df_valid.tweet, df_valid.label)"
   ]
  },
  {
   "cell_type": "markdown",
   "metadata": {
    "id": "XF3CiQjHgsBo"
   },
   "source": [
    "<font color='darkOrange' size='4'>\n",
    "Using logistic regression lowered the score!\n",
    "</font>"
   ]
  },
  {
   "cell_type": "code",
   "execution_count": 36,
   "metadata": {
    "colab": {
     "base_uri": "https://localhost:8080/"
    },
    "id": "JBfYXZncQ9kU",
    "outputId": "17c0e9b2-7e4b-414d-ab9f-5faaaf276d68"
   },
   "outputs": [
    {
     "name": "stderr",
     "output_type": "stream",
     "text": [
      "/usr/local/lib/python3.10/dist-packages/sklearn/linear_model/_logistic.py:458: ConvergenceWarning: lbfgs failed to converge (status=1):\n",
      "STOP: TOTAL NO. of ITERATIONS REACHED LIMIT.\n",
      "\n",
      "Increase the number of iterations (max_iter) or scale the data as shown in:\n",
      "    https://scikit-learn.org/stable/modules/preprocessing.html\n",
      "Please also refer to the documentation for alternative solver options:\n",
      "    https://scikit-learn.org/stable/modules/linear_model.html#logistic-regression\n",
      "  n_iter_i = _check_optimize_result(\n"
     ]
    }
   ],
   "source": [
    "pipe_stack = StackingClassifier(estimators=[('bigram-svm',pipe3), ('trigram-svm', pipe5)], final_estimator=LogisticRegression())\n",
    "pipe_stack.fit(df_train.tweet, df_train.label);"
   ]
  },
  {
   "cell_type": "code",
   "execution_count": 39,
   "metadata": {
    "colab": {
     "base_uri": "https://localhost:8080/"
    },
    "id": "3lS5wnU6b58H",
    "outputId": "ba68be9c-defe-4035-d526-d2e646e412e9"
   },
   "outputs": [
    {
     "name": "stdout",
     "output_type": "stream",
     "text": [
      "              precision    recall  f1-score   support\n",
      "\n",
      "          EG       0.86      0.92      0.89      5187\n",
      "          LB       0.87      0.86      0.87      2486\n",
      "          LY       0.82      0.84      0.83      3285\n",
      "          MA       0.83      0.75      0.79      1039\n",
      "          SD       0.82      0.64      0.72      1299\n",
      "\n",
      "    accuracy                           0.85     13296\n",
      "   macro avg       0.84      0.80      0.82     13296\n",
      "weighted avg       0.85      0.85      0.85     13296\n",
      "\n",
      "macro f1_score: 0.820\n"
     ]
    }
   ],
   "source": [
    "print_report(pipe_stack, df_valid.tweet, df_valid.label)"
   ]
  },
  {
   "cell_type": "code",
   "execution_count": 42,
   "metadata": {
    "colab": {
     "base_uri": "https://localhost:8080/"
    },
    "id": "x0YvGmfMhPzc",
    "outputId": "7e102236-93e5-44f6-8657-e19090d97cae"
   },
   "outputs": [
    {
     "name": "stderr",
     "output_type": "stream",
     "text": [
      "/usr/local/lib/python3.10/dist-packages/sklearn/svm/_base.py:1244: ConvergenceWarning: Liblinear failed to converge, increase the number of iterations.\n",
      "  warnings.warn(\n"
     ]
    }
   ],
   "source": [
    "pipe_stack2 = StackingClassifier(estimators=[('bigram-svm',pipe3), ('trigram-svm', pipe5)], final_estimator=LinearSVC())\n",
    "pipe_stack2.fit(df_train.tweet, df_train.label);"
   ]
  },
  {
   "cell_type": "code",
   "execution_count": 43,
   "metadata": {
    "colab": {
     "base_uri": "https://localhost:8080/"
    },
    "id": "w86BhaYzhSl5",
    "outputId": "d483278e-663e-4484-9d1c-e4266328e83c"
   },
   "outputs": [
    {
     "name": "stdout",
     "output_type": "stream",
     "text": [
      "              precision    recall  f1-score   support\n",
      "\n",
      "          EG       0.85      0.93      0.89      5187\n",
      "          LB       0.87      0.86      0.87      2486\n",
      "          LY       0.83      0.83      0.83      3285\n",
      "          MA       0.85      0.74      0.79      1039\n",
      "          SD       0.83      0.62      0.71      1299\n",
      "\n",
      "    accuracy                           0.85     13296\n",
      "   macro avg       0.85      0.80      0.82     13296\n",
      "weighted avg       0.85      0.85      0.84     13296\n",
      "\n",
      "macro f1_score: 0.817\n"
     ]
    }
   ],
   "source": [
    "print_report(pipe_stack2, df_valid.tweet, df_valid.label)"
   ]
  },
  {
   "cell_type": "markdown",
   "metadata": {
    "id": "rgAGTnT5m5to"
   },
   "source": [
    "# Final Pipeline:\n",
    "ngram Tf-Idf + SVC"
   ]
  },
  {
   "cell_type": "code",
   "execution_count": 44,
   "metadata": {
    "id": "TfGZYdI2m82M"
   },
   "outputs": [],
   "source": [
    "final_model = StackingClassifier(estimators=[('bigram-svm',pipe3), ('trigram-svm', pipe5)], final_estimator=LogisticRegression())"
   ]
  },
  {
   "cell_type": "markdown",
   "metadata": {
    "id": "obpdJXglfXCx"
   },
   "source": [
    "##  Retraining on train + valid"
   ]
  },
  {
   "cell_type": "code",
   "execution_count": 46,
   "metadata": {
    "colab": {
     "base_uri": "https://localhost:8080/",
     "height": 485
    },
    "id": "o8q7fpqlnJmz",
    "outputId": "280141a1-ebbf-454a-8cb5-640707902f4d"
   },
   "outputs": [
    {
     "data": {
      "text/html": [
       "\n",
       "  <div id=\"df-1d5df3c0-ab95-4d50-8bce-59fb045e1e72\">\n",
       "    <div class=\"colab-df-container\">\n",
       "      <div>\n",
       "<style scoped>\n",
       "    .dataframe tbody tr th:only-of-type {\n",
       "        vertical-align: middle;\n",
       "    }\n",
       "\n",
       "    .dataframe tbody tr th {\n",
       "        vertical-align: top;\n",
       "    }\n",
       "\n",
       "    .dataframe thead th {\n",
       "        text-align: right;\n",
       "    }\n",
       "</style>\n",
       "<table border=\"1\" class=\"dataframe\">\n",
       "  <thead>\n",
       "    <tr style=\"text-align: right;\">\n",
       "      <th></th>\n",
       "      <th>tweet</th>\n",
       "      <th>label</th>\n",
       "    </tr>\n",
       "  </thead>\n",
       "  <tbody>\n",
       "    <tr>\n",
       "      <th>59559</th>\n",
       "      <td>ديماجمالي في تصريح لها   اذا بكرا ما خلصت الموازنة ما بكون اسمي ديما صادق</td>\n",
       "      <td>LB</td>\n",
       "    </tr>\n",
       "    <tr>\n",
       "      <th>56113</th>\n",
       "      <td>والله يوائل ياريت اتكوان الفقره هدي كل يوم جمعه</td>\n",
       "      <td>LY</td>\n",
       "    </tr>\n",
       "    <tr>\n",
       "      <th>131901</th>\n",
       "      <td>المستفيذ الوحيد في هالمعمعه حكومة الكلاب كيف ما تمشي تجيهممعيتيق اعطي الامر للكانيات لدخول طرابلس السراج اعطي الامر للطرابلسي وبادي والزوز مفهمين مليشيات طرابلس انهم معاهمهاسيديها</td>\n",
       "      <td>LY</td>\n",
       "    </tr>\n",
       "    <tr>\n",
       "      <th>84003</th>\n",
       "      <td>واضح انك ما حكيت عن السيد بس لو عنجد حضرتك بتحترمو ما بتحكي عندو على شيخ وبتشتم فيه وهوي ما جاب سيرتو الاحترام يقتضي انتقاء الالفاظ المناسبة لمقام يلي عم نحكي معه او عنده</td>\n",
       "      <td>LB</td>\n",
       "    </tr>\n",
       "    <tr>\n",
       "      <th>53193</th>\n",
       "      <td>شفت حاجات على لينكد ان</td>\n",
       "      <td>EG</td>\n",
       "    </tr>\n",
       "    <tr>\n",
       "      <th>...</th>\n",
       "      <td>...</td>\n",
       "      <td>...</td>\n",
       "    </tr>\n",
       "    <tr>\n",
       "      <th>110218</th>\n",
       "      <td>يعني هانت انا يا خوفي من الفرحة يوم خروجه تجيني جلطة واموت</td>\n",
       "      <td>LY</td>\n",
       "    </tr>\n",
       "    <tr>\n",
       "      <th>41007</th>\n",
       "      <td>مش عارف ليه لما بتفرج على الحلقة بتاعتك وتيجي تخلص بحس انى زعلان انها خلصت  مبدع كالعادة وبالتوفيق دايمااااا</td>\n",
       "      <td>EG</td>\n",
       "    </tr>\n",
       "    <tr>\n",
       "      <th>21503</th>\n",
       "      <td>سؤال محيرالسودانيين لمن يجو يقشرو علي بعض بكتب بالعربي ويجدع ليه كلمة كلمتين بالانجيزي  ف تبقي الرسالة نصها عربي ونصها انجليزيوالانجليز والامريكان مثلا لمن يجو يقشرو بتكلمو باالانجليزي ويجدعو ليهم كلمة بالعربي اثناء الرسالة نحتاج لتفسير منبرالمغردينالسودانيين</td>\n",
       "      <td>SD</td>\n",
       "    </tr>\n",
       "    <tr>\n",
       "      <th>24372</th>\n",
       "      <td>ما بعطي رقمي لمين ما كان شكرا</td>\n",
       "      <td>LB</td>\n",
       "    </tr>\n",
       "    <tr>\n",
       "      <th>90188</th>\n",
       "      <td>الجماعه عايزين يعملوا للثورة قسم الباريمع ناس الباسطة لكن الحنك دا م بمشي فينا</td>\n",
       "      <td>SD</td>\n",
       "    </tr>\n",
       "  </tbody>\n",
       "</table>\n",
       "<p>132952 rows × 2 columns</p>\n",
       "</div>\n",
       "      <button class=\"colab-df-convert\" onclick=\"convertToInteractive('df-1d5df3c0-ab95-4d50-8bce-59fb045e1e72')\"\n",
       "              title=\"Convert this dataframe to an interactive table.\"\n",
       "              style=\"display:none;\">\n",
       "        \n",
       "  <svg xmlns=\"http://www.w3.org/2000/svg\" height=\"24px\"viewBox=\"0 0 24 24\"\n",
       "       width=\"24px\">\n",
       "    <path d=\"M0 0h24v24H0V0z\" fill=\"none\"/>\n",
       "    <path d=\"M18.56 5.44l.94 2.06.94-2.06 2.06-.94-2.06-.94-.94-2.06-.94 2.06-2.06.94zm-11 1L8.5 8.5l.94-2.06 2.06-.94-2.06-.94L8.5 2.5l-.94 2.06-2.06.94zm10 10l.94 2.06.94-2.06 2.06-.94-2.06-.94-.94-2.06-.94 2.06-2.06.94z\"/><path d=\"M17.41 7.96l-1.37-1.37c-.4-.4-.92-.59-1.43-.59-.52 0-1.04.2-1.43.59L10.3 9.45l-7.72 7.72c-.78.78-.78 2.05 0 2.83L4 21.41c.39.39.9.59 1.41.59.51 0 1.02-.2 1.41-.59l7.78-7.78 2.81-2.81c.8-.78.8-2.07 0-2.86zM5.41 20L4 18.59l7.72-7.72 1.47 1.35L5.41 20z\"/>\n",
       "  </svg>\n",
       "      </button>\n",
       "      \n",
       "  <style>\n",
       "    .colab-df-container {\n",
       "      display:flex;\n",
       "      flex-wrap:wrap;\n",
       "      gap: 12px;\n",
       "    }\n",
       "\n",
       "    .colab-df-convert {\n",
       "      background-color: #E8F0FE;\n",
       "      border: none;\n",
       "      border-radius: 50%;\n",
       "      cursor: pointer;\n",
       "      display: none;\n",
       "      fill: #1967D2;\n",
       "      height: 32px;\n",
       "      padding: 0 0 0 0;\n",
       "      width: 32px;\n",
       "    }\n",
       "\n",
       "    .colab-df-convert:hover {\n",
       "      background-color: #E2EBFA;\n",
       "      box-shadow: 0px 1px 2px rgba(60, 64, 67, 0.3), 0px 1px 3px 1px rgba(60, 64, 67, 0.15);\n",
       "      fill: #174EA6;\n",
       "    }\n",
       "\n",
       "    [theme=dark] .colab-df-convert {\n",
       "      background-color: #3B4455;\n",
       "      fill: #D2E3FC;\n",
       "    }\n",
       "\n",
       "    [theme=dark] .colab-df-convert:hover {\n",
       "      background-color: #434B5C;\n",
       "      box-shadow: 0px 1px 3px 1px rgba(0, 0, 0, 0.15);\n",
       "      filter: drop-shadow(0px 1px 2px rgba(0, 0, 0, 0.3));\n",
       "      fill: #FFFFFF;\n",
       "    }\n",
       "  </style>\n",
       "\n",
       "      <script>\n",
       "        const buttonEl =\n",
       "          document.querySelector('#df-1d5df3c0-ab95-4d50-8bce-59fb045e1e72 button.colab-df-convert');\n",
       "        buttonEl.style.display =\n",
       "          google.colab.kernel.accessAllowed ? 'block' : 'none';\n",
       "\n",
       "        async function convertToInteractive(key) {\n",
       "          const element = document.querySelector('#df-1d5df3c0-ab95-4d50-8bce-59fb045e1e72');\n",
       "          const dataTable =\n",
       "            await google.colab.kernel.invokeFunction('convertToInteractive',\n",
       "                                                     [key], {});\n",
       "          if (!dataTable) return;\n",
       "\n",
       "          const docLinkHtml = 'Like what you see? Visit the ' +\n",
       "            '<a target=\"_blank\" href=https://colab.research.google.com/notebooks/data_table.ipynb>data table notebook</a>'\n",
       "            + ' to learn more about interactive tables.';\n",
       "          element.innerHTML = '';\n",
       "          dataTable['output_type'] = 'display_data';\n",
       "          await google.colab.output.renderOutput(dataTable, element);\n",
       "          const docLink = document.createElement('div');\n",
       "          docLink.innerHTML = docLinkHtml;\n",
       "          element.appendChild(docLink);\n",
       "        }\n",
       "      </script>\n",
       "    </div>\n",
       "  </div>\n",
       "  "
      ],
      "text/plain": [
       "                                                                                                                                                                                                                                                                      tweet  \\\n",
       "59559   ديماجمالي في تصريح لها   اذا بكرا ما خلصت الموازنة ما بكون اسمي ديما صادق                                                                                                                                                                                             \n",
       "56113    والله يوائل ياريت اتكوان الفقره هدي كل يوم جمعه                                                                                                                                                                                                                      \n",
       "131901  المستفيذ الوحيد في هالمعمعه حكومة الكلاب كيف ما تمشي تجيهممعيتيق اعطي الامر للكانيات لدخول طرابلس السراج اعطي الامر للطرابلسي وبادي والزوز مفهمين مليشيات طرابلس انهم معاهمهاسيديها                                                                                   \n",
       "84003     واضح انك ما حكيت عن السيد بس لو عنجد حضرتك بتحترمو ما بتحكي عندو على شيخ وبتشتم فيه وهوي ما جاب سيرتو الاحترام يقتضي انتقاء الالفاظ المناسبة لمقام يلي عم نحكي معه او عنده                                                                                          \n",
       "53193    شفت حاجات على لينكد ان                                                                                                                                                                                                                                               \n",
       "...                         ...                                                                                                                                                                                                                                               \n",
       "110218   يعني هانت انا يا خوفي من الفرحة يوم خروجه تجيني جلطة واموت                                                                                                                                                                                                           \n",
       "41007   مش عارف ليه لما بتفرج على الحلقة بتاعتك وتيجي تخلص بحس انى زعلان انها خلصت  مبدع كالعادة وبالتوفيق دايمااااا                                                                                                                                                          \n",
       "21503   سؤال محيرالسودانيين لمن يجو يقشرو علي بعض بكتب بالعربي ويجدع ليه كلمة كلمتين بالانجيزي  ف تبقي الرسالة نصها عربي ونصها انجليزيوالانجليز والامريكان مثلا لمن يجو يقشرو بتكلمو باالانجليزي ويجدعو ليهم كلمة بالعربي اثناء الرسالة نحتاج لتفسير منبرالمغردينالسودانيين   \n",
       "24372    ما بعطي رقمي لمين ما كان شكرا                                                                                                                                                                                                                                        \n",
       "90188    الجماعه عايزين يعملوا للثورة قسم الباريمع ناس الباسطة لكن الحنك دا م بمشي فينا                                                                                                                                                                                       \n",
       "\n",
       "       label  \n",
       "59559   LB    \n",
       "56113   LY    \n",
       "131901  LY    \n",
       "84003   LB    \n",
       "53193   EG    \n",
       "...     ..    \n",
       "110218  LY    \n",
       "41007   EG    \n",
       "21503   SD    \n",
       "24372   LB    \n",
       "90188   SD    \n",
       "\n",
       "[132952 rows x 2 columns]"
      ]
     },
     "execution_count": 46,
     "metadata": {},
     "output_type": "execute_result"
    }
   ],
   "source": [
    "# Merge train and valid to gain small performance boost \n",
    "# (We still have a held-out test set to assess the model)\n",
    "df_train_total = pd.concat([df_train, df_valid], axis=0).sample(frac=1)\n",
    "df_train_total"
   ]
  },
  {
   "cell_type": "code",
   "execution_count": 49,
   "metadata": {
    "colab": {
     "base_uri": "https://localhost:8080/"
    },
    "id": "V21ia2XrhAmq",
    "outputId": "c1e6af61-3b3c-45e5-96c0-8f5c71e485d2"
   },
   "outputs": [
    {
     "name": "stderr",
     "output_type": "stream",
     "text": [
      "/usr/local/lib/python3.10/dist-packages/sklearn/linear_model/_logistic.py:458: ConvergenceWarning: lbfgs failed to converge (status=1):\n",
      "STOP: TOTAL NO. of ITERATIONS REACHED LIMIT.\n",
      "\n",
      "Increase the number of iterations (max_iter) or scale the data as shown in:\n",
      "    https://scikit-learn.org/stable/modules/preprocessing.html\n",
      "Please also refer to the documentation for alternative solver options:\n",
      "    https://scikit-learn.org/stable/modules/linear_model.html#logistic-regression\n",
      "  n_iter_i = _check_optimize_result(\n"
     ]
    }
   ],
   "source": [
    "final_model.fit(df_train_total.tweet, df_train_total.label);"
   ]
  },
  {
   "cell_type": "markdown",
   "metadata": {
    "id": "zr1G6HU9fa2P"
   },
   "source": [
    "## Assessing the model on test set"
   ]
  },
  {
   "cell_type": "code",
   "execution_count": 48,
   "metadata": {
    "colab": {
     "base_uri": "https://localhost:8080/",
     "height": 423
    },
    "id": "9W5Wuo5jjmd4",
    "outputId": "92084779-e54d-4916-bef8-e1f53a36ecdf"
   },
   "outputs": [
    {
     "data": {
      "text/html": [
       "\n",
       "  <div id=\"df-ab20dba0-dd02-45e9-a3c5-cd22e13c8d6f\">\n",
       "    <div class=\"colab-df-container\">\n",
       "      <div>\n",
       "<style scoped>\n",
       "    .dataframe tbody tr th:only-of-type {\n",
       "        vertical-align: middle;\n",
       "    }\n",
       "\n",
       "    .dataframe tbody tr th {\n",
       "        vertical-align: top;\n",
       "    }\n",
       "\n",
       "    .dataframe thead th {\n",
       "        text-align: right;\n",
       "    }\n",
       "</style>\n",
       "<table border=\"1\" class=\"dataframe\">\n",
       "  <thead>\n",
       "    <tr style=\"text-align: right;\">\n",
       "      <th></th>\n",
       "      <th>tweet</th>\n",
       "      <th>label</th>\n",
       "    </tr>\n",
       "  </thead>\n",
       "  <tbody>\n",
       "    <tr>\n",
       "      <th>0</th>\n",
       "      <td>شفت دي ف الفيفوريت عندكمش تقول يا راجل من بدري</td>\n",
       "      <td>EG</td>\n",
       "    </tr>\n",
       "    <tr>\n",
       "      <th>1</th>\n",
       "      <td>علي اعتبار إن أعداءنا دلوقت مش اللي ف حارة اليهود لأ أبسيليوتلي دول بقوا اللي فالحارة المزنوقه</td>\n",
       "      <td>EG</td>\n",
       "    </tr>\n",
       "    <tr>\n",
       "      <th>2</th>\n",
       "      <td>اكيد هو حر لكن الطريقة كيفاش دخل فالنص غلط وشي فانز كانو من مدة كيضغطو على اهاب يرجعله فولو ما عرفتش واش عمله او لا</td>\n",
       "      <td>MA</td>\n",
       "    </tr>\n",
       "    <tr>\n",
       "      <th>3</th>\n",
       "      <td>زي هدا وزي عبدالرحمن بيكرهوني في عروبتي</td>\n",
       "      <td>LY</td>\n",
       "    </tr>\n",
       "    <tr>\n",
       "      <th>4</th>\n",
       "      <td>على ما يبدو دمها خفيف</td>\n",
       "      <td>LB</td>\n",
       "    </tr>\n",
       "    <tr>\n",
       "      <th>...</th>\n",
       "      <td>...</td>\n",
       "      <td>...</td>\n",
       "    </tr>\n",
       "    <tr>\n",
       "      <th>14768</th>\n",
       "      <td>يارب يكون احسن حاجه بجد نفرح جدااااااا عقبال مانصنع وتنتج وتزرع ومانحتاج لحد يارب</td>\n",
       "      <td>EG</td>\n",
       "    </tr>\n",
       "    <tr>\n",
       "      <th>14769</th>\n",
       "      <td>كيف تتجنب أمراض الكلى</td>\n",
       "      <td>SD</td>\n",
       "    </tr>\n",
       "    <tr>\n",
       "      <th>14770</th>\n",
       "      <td>هههههه على كلشي المهام الموكلة لنا ههههه</td>\n",
       "      <td>MA</td>\n",
       "    </tr>\n",
       "    <tr>\n",
       "      <th>14771</th>\n",
       "      <td>ايه موقع شيزلونج دا  منصة للعلاج النفسي على الانترنت عن طريق مكالمات فيديو بمقابل مادي الموقع ده شبيه ومجاني لكن دعم للاكتئاب وكرب ما بعد الصدمة فقط</td>\n",
       "      <td>EG</td>\n",
       "    </tr>\n",
       "    <tr>\n",
       "      <th>14772</th>\n",
       "      <td>يصرفوه في الدواة ان شاء الله  نخدم من الصبح لي الليل و ماوصلتش لنص هالمبلغ  تفوه</td>\n",
       "      <td>LY</td>\n",
       "    </tr>\n",
       "  </tbody>\n",
       "</table>\n",
       "<p>14773 rows × 2 columns</p>\n",
       "</div>\n",
       "      <button class=\"colab-df-convert\" onclick=\"convertToInteractive('df-ab20dba0-dd02-45e9-a3c5-cd22e13c8d6f')\"\n",
       "              title=\"Convert this dataframe to an interactive table.\"\n",
       "              style=\"display:none;\">\n",
       "        \n",
       "  <svg xmlns=\"http://www.w3.org/2000/svg\" height=\"24px\"viewBox=\"0 0 24 24\"\n",
       "       width=\"24px\">\n",
       "    <path d=\"M0 0h24v24H0V0z\" fill=\"none\"/>\n",
       "    <path d=\"M18.56 5.44l.94 2.06.94-2.06 2.06-.94-2.06-.94-.94-2.06-.94 2.06-2.06.94zm-11 1L8.5 8.5l.94-2.06 2.06-.94-2.06-.94L8.5 2.5l-.94 2.06-2.06.94zm10 10l.94 2.06.94-2.06 2.06-.94-2.06-.94-.94-2.06-.94 2.06-2.06.94z\"/><path d=\"M17.41 7.96l-1.37-1.37c-.4-.4-.92-.59-1.43-.59-.52 0-1.04.2-1.43.59L10.3 9.45l-7.72 7.72c-.78.78-.78 2.05 0 2.83L4 21.41c.39.39.9.59 1.41.59.51 0 1.02-.2 1.41-.59l7.78-7.78 2.81-2.81c.8-.78.8-2.07 0-2.86zM5.41 20L4 18.59l7.72-7.72 1.47 1.35L5.41 20z\"/>\n",
       "  </svg>\n",
       "      </button>\n",
       "      \n",
       "  <style>\n",
       "    .colab-df-container {\n",
       "      display:flex;\n",
       "      flex-wrap:wrap;\n",
       "      gap: 12px;\n",
       "    }\n",
       "\n",
       "    .colab-df-convert {\n",
       "      background-color: #E8F0FE;\n",
       "      border: none;\n",
       "      border-radius: 50%;\n",
       "      cursor: pointer;\n",
       "      display: none;\n",
       "      fill: #1967D2;\n",
       "      height: 32px;\n",
       "      padding: 0 0 0 0;\n",
       "      width: 32px;\n",
       "    }\n",
       "\n",
       "    .colab-df-convert:hover {\n",
       "      background-color: #E2EBFA;\n",
       "      box-shadow: 0px 1px 2px rgba(60, 64, 67, 0.3), 0px 1px 3px 1px rgba(60, 64, 67, 0.15);\n",
       "      fill: #174EA6;\n",
       "    }\n",
       "\n",
       "    [theme=dark] .colab-df-convert {\n",
       "      background-color: #3B4455;\n",
       "      fill: #D2E3FC;\n",
       "    }\n",
       "\n",
       "    [theme=dark] .colab-df-convert:hover {\n",
       "      background-color: #434B5C;\n",
       "      box-shadow: 0px 1px 3px 1px rgba(0, 0, 0, 0.15);\n",
       "      filter: drop-shadow(0px 1px 2px rgba(0, 0, 0, 0.3));\n",
       "      fill: #FFFFFF;\n",
       "    }\n",
       "  </style>\n",
       "\n",
       "      <script>\n",
       "        const buttonEl =\n",
       "          document.querySelector('#df-ab20dba0-dd02-45e9-a3c5-cd22e13c8d6f button.colab-df-convert');\n",
       "        buttonEl.style.display =\n",
       "          google.colab.kernel.accessAllowed ? 'block' : 'none';\n",
       "\n",
       "        async function convertToInteractive(key) {\n",
       "          const element = document.querySelector('#df-ab20dba0-dd02-45e9-a3c5-cd22e13c8d6f');\n",
       "          const dataTable =\n",
       "            await google.colab.kernel.invokeFunction('convertToInteractive',\n",
       "                                                     [key], {});\n",
       "          if (!dataTable) return;\n",
       "\n",
       "          const docLinkHtml = 'Like what you see? Visit the ' +\n",
       "            '<a target=\"_blank\" href=https://colab.research.google.com/notebooks/data_table.ipynb>data table notebook</a>'\n",
       "            + ' to learn more about interactive tables.';\n",
       "          element.innerHTML = '';\n",
       "          dataTable['output_type'] = 'display_data';\n",
       "          await google.colab.output.renderOutput(dataTable, element);\n",
       "          const docLink = document.createElement('div');\n",
       "          docLink.innerHTML = docLinkHtml;\n",
       "          element.appendChild(docLink);\n",
       "        }\n",
       "      </script>\n",
       "    </div>\n",
       "  </div>\n",
       "  "
      ],
      "text/plain": [
       "                                                                                                                                                        tweet  \\\n",
       "0       شفت دي ف الفيفوريت عندكمش تقول يا راجل من بدري                                                                                                          \n",
       "1        علي اعتبار إن أعداءنا دلوقت مش اللي ف حارة اليهود لأ أبسيليوتلي دول بقوا اللي فالحارة المزنوقه                                                         \n",
       "2        اكيد هو حر لكن الطريقة كيفاش دخل فالنص غلط وشي فانز كانو من مدة كيضغطو على اهاب يرجعله فولو ما عرفتش واش عمله او لا                                    \n",
       "3       زي هدا وزي عبدالرحمن بيكرهوني في عروبتي                                                                                                                 \n",
       "4       على ما يبدو دمها خفيف                                                                                                                                   \n",
       "...                       ...                                                                                                                                   \n",
       "14768    يارب يكون احسن حاجه بجد نفرح جدااااااا عقبال مانصنع وتنتج وتزرع ومانحتاج لحد يارب                                                                      \n",
       "14769  كيف تتجنب أمراض الكلى                                                                                                                                    \n",
       "14770        هههههه على كلشي المهام الموكلة لنا ههههه                                                                                                           \n",
       "14771  ايه موقع شيزلونج دا  منصة للعلاج النفسي على الانترنت عن طريق مكالمات فيديو بمقابل مادي الموقع ده شبيه ومجاني لكن دعم للاكتئاب وكرب ما بعد الصدمة فقط     \n",
       "14772   يصرفوه في الدواة ان شاء الله  نخدم من الصبح لي الليل و ماوصلتش لنص هالمبلغ  تفوه                                                                        \n",
       "\n",
       "      label  \n",
       "0      EG    \n",
       "1      EG    \n",
       "2      MA    \n",
       "3      LY    \n",
       "4      LB    \n",
       "...    ..    \n",
       "14768  EG    \n",
       "14769  SD    \n",
       "14770  MA    \n",
       "14771  EG    \n",
       "14772  LY    \n",
       "\n",
       "[14773 rows x 2 columns]"
      ]
     },
     "execution_count": 48,
     "metadata": {},
     "output_type": "execute_result"
    }
   ],
   "source": [
    "df_test = pd.read_csv(test_csv_file_path)\n",
    "df_test"
   ]
  },
  {
   "cell_type": "code",
   "execution_count": 50,
   "metadata": {
    "colab": {
     "base_uri": "https://localhost:8080/"
    },
    "id": "ZsVL28nAm82M",
    "outputId": "6c04299b-c78e-44fa-c02a-7c1d787c1a1a"
   },
   "outputs": [
    {
     "name": "stdout",
     "output_type": "stream",
     "text": [
      "              precision    recall  f1-score   support\n",
      "\n",
      "          EG       0.87      0.92      0.89      5764\n",
      "          LB       0.87      0.86      0.87      2762\n",
      "          LY       0.83      0.85      0.84      3650\n",
      "          MA       0.85      0.74      0.80      1154\n",
      "          SD       0.82      0.68      0.74      1443\n",
      "\n",
      "    accuracy                           0.85     14773\n",
      "   macro avg       0.85      0.81      0.83     14773\n",
      "weighted avg       0.85      0.85      0.85     14773\n",
      "\n",
      "macro f1_score: 0.828\n"
     ]
    }
   ],
   "source": [
    "print_report(final_model, df_test.tweet, df_test.label)"
   ]
  },
  {
   "cell_type": "markdown",
   "metadata": {
    "id": "Tabe-vjRnsd4"
   },
   "source": [
    "<font color='Green' size='6'>\n",
    "Final Model f1_macro: 0.828<br>\n",
    "YAY!\n",
    "</font>"
   ]
  },
  {
   "cell_type": "markdown",
   "metadata": {
    "id": "T1pRD8_8fdJ6"
   },
   "source": [
    "## Saving the model"
   ]
  },
  {
   "cell_type": "code",
   "execution_count": 71,
   "metadata": {
    "colab": {
     "base_uri": "https://localhost:8080/"
    },
    "id": "GTgE1e5lnqA0",
    "outputId": "eaf91d36-7bf6-450c-8d44-0b5c9a63c5e8"
   },
   "outputs": [
    {
     "data": {
      "text/plain": [
       "array(['LB'], dtype=object)"
      ]
     },
     "execution_count": 71,
     "metadata": {},
     "output_type": "execute_result"
    }
   ],
   "source": [
    "final_model.predict(['هلا ومرحبا بالطعمية شو اخبارك'])"
   ]
  },
  {
   "cell_type": "code",
   "execution_count": 65,
   "metadata": {
    "id": "nseTVMSLkimr"
   },
   "outputs": [],
   "source": [
    "if using_colab:\n",
    "  models_folder_path = CWD \n",
    "else:\n",
    "  models_folder_path = PWD + \"/models/\""
   ]
  },
  {
   "cell_type": "code",
   "execution_count": 75,
   "metadata": {
    "colab": {
     "base_uri": "https://localhost:8080/"
    },
    "id": "ZlbOxFuthqe1",
    "outputId": "d33c650e-12d9-458d-d5ec-f7481c66a41d"
   },
   "outputs": [
    {
     "data": {
      "text/plain": [
       "['/content/machine_model.joblib']"
      ]
     },
     "execution_count": 75,
     "metadata": {},
     "output_type": "execute_result"
    }
   ],
   "source": [
    "joblib.dump(final_model, models_folder_path + \"/\" \"machine_model.joblib\", compress=9)"
   ]
  },
  {
   "cell_type": "code",
   "execution_count": 77,
   "metadata": {
    "id": "ByNafxJno55I"
   },
   "outputs": [],
   "source": [
    "tmp = joblib.load('/content/machine_model.joblib')\n",
    "# took 45 seconds to load"
   ]
  },
  {
   "cell_type": "code",
   "execution_count": 78,
   "metadata": {
    "colab": {
     "base_uri": "https://localhost:8080/"
    },
    "id": "hoCCymPbo_Gh",
    "outputId": "819fd9d7-1ce6-49f7-ad8a-b7b788ab6c0a"
   },
   "outputs": [
    {
     "data": {
      "text/plain": [
       "array(['LB'], dtype=object)"
      ]
     },
     "execution_count": 78,
     "metadata": {},
     "output_type": "execute_result"
    }
   ],
   "source": [
    "tmp.predict(['هلا ومرحبا بالطعمية شو اخبارك'])"
   ]
  },
  {
   "cell_type": "code",
   "execution_count": 79,
   "metadata": {
    "colab": {
     "base_uri": "https://localhost:8080/"
    },
    "id": "NiD3UGr4qOgh",
    "outputId": "fbf07e95-443d-4b0f-e59f-6c4f72bd9878"
   },
   "outputs": [
    {
     "data": {
      "text/plain": [
       "['/content/svm_model.joblib']"
      ]
     },
     "execution_count": 79,
     "metadata": {},
     "output_type": "execute_result"
    }
   ],
   "source": [
    "joblib.dump(pipe3, models_folder_path + \"/\" \"svm_model.joblib\", compress=9)"
   ]
  },
  {
   "cell_type": "code",
   "execution_count": 81,
   "metadata": {
    "id": "NkF_eJgyrAMi"
   },
   "outputs": [],
   "source": [
    "tmp2 = joblib.load('/content/svm_model.joblib')\n",
    "# took 10 seconds to load"
   ]
  },
  {
   "cell_type": "code",
   "execution_count": 82,
   "metadata": {
    "colab": {
     "base_uri": "https://localhost:8080/"
    },
    "id": "eDF_KSM6rEny",
    "outputId": "5dbf985b-49bd-4aae-f089-4e8abd5b4a4b"
   },
   "outputs": [
    {
     "data": {
      "text/plain": [
       "array(['LB'], dtype=object)"
      ]
     },
     "execution_count": 82,
     "metadata": {},
     "output_type": "execute_result"
    }
   ],
   "source": [
    "tmp2.predict(['هلا ومرحبا بالطعمية شو اخبارك'])"
   ]
  }
 ],
 "metadata": {
  "colab": {
   "gpuType": "T4",
   "provenance": []
  },
  "gpuClass": "standard",
  "kernelspec": {
   "display_name": "Python 3 (ipykernel)",
   "language": "python",
   "name": "python3"
  },
  "language_info": {
   "codemirror_mode": {
    "name": "ipython",
    "version": 3
   },
   "file_extension": ".py",
   "mimetype": "text/x-python",
   "name": "python",
   "nbconvert_exporter": "python",
   "pygments_lexer": "ipython3",
   "version": "3.10.10"
  }
 },
 "nbformat": 4,
 "nbformat_minor": 4
}
