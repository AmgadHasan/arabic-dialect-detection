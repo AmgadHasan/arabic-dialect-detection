{
 "cells": [
  {
   "cell_type": "code",
   "execution_count": 1,
   "metadata": {
    "id": "7L8Hcek_9Y7C"
   },
   "outputs": [],
   "source": [
    "import os\n",
    "import urllib.request\n",
    "import pandas as pd\n",
    "import sqlite3"
   ]
  },
  {
   "cell_type": "code",
   "execution_count": 2,
   "metadata": {
    "colab": {
     "base_uri": "https://localhost:8080/"
    },
    "id": "ab4EZvL7tvxT",
    "outputId": "6e0d4795-0d5e-4da7-fe82-c50dcfbe106d"
   },
   "outputs": [
    {
     "name": "stdout",
     "output_type": "stream",
     "text": [
      "File exists.\n"
     ]
    }
   ],
   "source": [
    "# Define the URL of the file to download\n",
    "url = \"https://github.com/AmgadHasan/arabic-dialect-detection/raw/main/data/dialects_database.db\"\n",
    "\n",
    "# Define the local file path\n",
    "folder_path = os.getcwd() + \"/data/\"\n",
    "db_file_path = folder_path + \"dialects_database.db\"\n",
    "# Check if the file exists\n",
    "if not os.path.isfile(db_file_path):\n",
    "    # If the file doesn't exist, download it from the URL\n",
    "    print(\"Downloading file...\")\n",
    "    urllib.request.urlretrieve(url, db_file_path)\n",
    "    print(\"File downloaded.\")\n",
    "else:\n",
    "    print(\"File exists.\")"
   ]
  },
  {
   "cell_type": "code",
   "execution_count": 3,
   "metadata": {
    "colab": {
     "base_uri": "https://localhost:8080/"
    },
    "id": "5UsAHgtet0-U",
    "outputId": "654cb621-c926-426d-93f7-822adb276113"
   },
   "outputs": [
    {
     "name": "stdout",
     "output_type": "stream",
     "text": [
      "                                                     text dialect\n",
      "0       @toha_Altomy @gy_yah قليلين ادب ومنافقين. لو ا...      LY\n",
      "1       @AlmFaisal 😂😂 الليبيين متقلبين!!!\\nبس بالنسبة ...      LY\n",
      "2       @smsm071990 @ALMOGRBE كل 20 تانيه شاب ليبي بير...      LY\n",
      "3       @AboryPro @lyranoo85 رانيا عقليتك متخلفة. اولا...      LY\n",
      "4       @lyranoo85 شكلك متعقدة علشان الراجل لي تحبيه ا...      LY\n",
      "...                                                   ...     ...\n",
      "147720  الناس دي بتنفخ في قربة مقدودة بالدارجي كده  ال...      SD\n",
      "147721  @Wail_Hamza @amiromer انت عايش وين بره السودان...      SD\n",
      "147722  مااحرم نفسي ميسي حريف ولعاب برضو ..\\nمدريدي وا...      SD\n",
      "147723  ياخي ديل ماخلو  للشيطان وإبليس شي لكن يروحو وي...      SD\n",
      "147724     @abdomaged127 النبي فيك صدمتني ياخي عاوز تعويض      SD\n",
      "\n",
      "[147725 rows x 2 columns]\n"
     ]
    }
   ],
   "source": [
    "# Connect to the database\n",
    "conn = sqlite3.connect(db_file_path)\n",
    "\n",
    "df = pd.read_sql_query(\"SELECT id_text.text, id_dialect.dialect FROM id_text INNER JOIN id_dialect ON id_text.id = id_dialect.id\", conn)\n",
    "\n",
    "# Print the resulting DataFrame\n",
    "print(df)\n",
    "\n",
    "# Close the connection\n",
    "conn.close()"
   ]
  },
  {
   "cell_type": "code",
   "execution_count": 4,
   "metadata": {
    "colab": {
     "base_uri": "https://localhost:8080/"
    },
    "id": "YGHNT2SKvIpR",
    "outputId": "6cf44bb8-fa25-403b-fb38-517f4b368bb2"
   },
   "outputs": [
    {
     "data": {
      "text/plain": [
       "(147725, 2)"
      ]
     },
     "execution_count": 4,
     "metadata": {},
     "output_type": "execute_result"
    }
   ],
   "source": [
    "df.shape"
   ]
  },
  {
   "cell_type": "code",
   "execution_count": 5,
   "metadata": {
    "id": "ktZ3az71BO63"
   },
   "outputs": [],
   "source": [
    "df = df.rename(columns={'text': 'tweet', 'dialect':'label'})"
   ]
  },
  {
   "cell_type": "code",
   "execution_count": 6,
   "metadata": {},
   "outputs": [],
   "source": [
    "csv_file_path = folder_path + \"arabic_dialects.csv\""
   ]
  },
  {
   "cell_type": "code",
   "execution_count": 7,
   "metadata": {
    "id": "xScJBSC2Bhmy"
   },
   "outputs": [],
   "source": [
    "df.to_csv(csv_file_path, index=False)"
   ]
  },
  {
   "cell_type": "code",
   "execution_count": 8,
   "metadata": {
    "colab": {
     "base_uri": "https://localhost:8080/"
    },
    "id": "RocCmoG7B0ne",
    "outputId": "727e0854-4418-4c24-e202-5ee664d3d68f"
   },
   "outputs": [
    {
     "name": "stdout",
     "output_type": "stream",
     "text": [
      "Index        128\n",
      "tweet    1181800\n",
      "label    1181800\n",
      "dtype: int64\n"
     ]
    }
   ],
   "source": [
    "print(df.memory_usage())"
   ]
  }
 ],
 "metadata": {
  "colab": {
   "provenance": []
  },
  "kernelspec": {
   "display_name": "Python 3 (ipykernel)",
   "language": "python",
   "name": "python3"
  },
  "language_info": {
   "codemirror_mode": {
    "name": "ipython",
    "version": 3
   },
   "file_extension": ".py",
   "mimetype": "text/x-python",
   "name": "python",
   "nbconvert_exporter": "python",
   "pygments_lexer": "ipython3",
   "version": "3.10.10"
  }
 },
 "nbformat": 4,
 "nbformat_minor": 4
}
